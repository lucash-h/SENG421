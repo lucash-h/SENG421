{
  "cells": [
    {
      "cell_type": "markdown",
      "metadata": {
        "id": "view-in-github",
        "colab_type": "text"
      },
      "source": [
        "<a href=\"https://colab.research.google.com/github/lucash-h/SENG421/blob/main/csc421_asn1.ipynb\" target=\"_parent\"><img src=\"https://colab.research.google.com/assets/colab-badge.svg\" alt=\"Open In Colab\"/></a>"
      ]
    },
    {
      "cell_type": "markdown",
      "metadata": {
        "id": "6xyW_ei92cdu"
      },
      "source": [
        "# CSC421 Assignment 1 Search, and CSP\n",
        "\n",
        "This assignment notebook explores topics covered in **Chapter 3 - Searching** and **Chapter 6 - Constraint Satisfaction Problems** from the book *Artificial Intelligence: A Modern Approach.* The code provided is based on parts of the aima-code repository but has been adapted, modified and simplified for the assignment. The notebook is self-contained and other than importing a few common packages you don't need to access any additional code.\n",
        "\n",
        "Plagiarism checking will be done. At the teaching team's discretion, a random subset of students may be examined in person and asked questions about the code submitted. Failure to understand the submitted code will result in a 0 grade for the entire assignment.\n",
        "\n",
        "The assignment structure is as follows:\n",
        "\n",
        "1. Search (Basic): Add a connection to the Romania map, try out search, print paths\n",
        "2. Search (Basic): Return frontier lengths\n",
        "3. Search (Expected): New Search\n",
        "4. Search (Expected): Change the grid problem to 8 directions and finite square shape\n",
        "5. Search (Expected): Landgrid problem and Manhattan distance\n",
        "6. CSP (Expected): CSP for a map of Australia with unitary constraint  \n",
        "7. CSP (Advanced): Type inference toy example as CSP  \n",
        "\n",
        "**IMPORTANT:** An assignment through Brightspace will provide the complete submission details. You will be required to submit this notebook. For working on the assignment, I recommend using the Jupyter-lab interface as it supports interactive development and is helpful for visualizations and plots. Please make sure the notebook you submit is clean, it should not be so heavily modified with debugging, additional figures, etc. that it becomes difficult to mark. Make sure that the notebook you submit is functioning and that you have used best practices in ensuring that (reloading the notebook, clearing history/memory, HINT: you may need to force refresh your browser (e.g., crtl+F5), ensuring that the submission is actually what you intend to submit for marking). We will **NOT** accept changes after the deadline if you have made a submission mistake."
      ]
    },
    {
      "cell_type": "code",
      "execution_count": 1,
      "metadata": {
        "id": "dWDMYlyE2cdx"
      },
      "outputs": [],
      "source": [
        "## We'll start here defining useful imports, classes, and functions for later.\n",
        "## Notably, we will create:\n",
        "### an abstract problem that allows us to define actions, actions costs, the results of a valid action and an ability to check if we have arrived at the goal\n",
        "### a node for defining search tree expansion\n",
        "### a priority queueu (useful for search algorithm implementations, as we discussed in the slides)\n",
        "### a series of search algorithms under the umbrella of Best First Search, by choosing a particular cost function we can get form this a particular search algorithm!\n",
        "#### *HINT* Examine these individual search algorithm implementations closely and try to understand how such small changes lead to completely different approaches\n",
        "\n",
        "\n",
        "## ABSTRACT PROBLEM CLASS\n",
        "\n",
        "%matplotlib inline\n",
        "import matplotlib.pyplot as plt\n",
        "import random\n",
        "import heapq\n",
        "import math\n",
        "import sys\n",
        "import numpy as np\n",
        "from collections import defaultdict, deque, Counter\n",
        "from itertools import combinations\n",
        "\n",
        "class Problem(object):\n",
        "    \"\"\"The abstract class for a formal problem. A new domain subclasses this,\n",
        "    overriding `actions` and `results`, and perhaps other methods.\n",
        "    The default heuristic is 0 and the default action cost is 1 for all states.\n",
        "    When you create an instance of a subclass, specify `initial`, and `goal` states\n",
        "    (or give an `is_goal` method) and perhaps other keyword args for the subclass.\"\"\"\n",
        "\n",
        "    def __init__(self, initial=None, goal=None, **kwds):\n",
        "        self.__dict__.update(initial=initial, goal=goal, **kwds)\n",
        "\n",
        "    def actions(self, state):        raise NotImplementedError\n",
        "    def result(self, state, action): raise NotImplementedError\n",
        "    def is_goal(self, state):        return state == self.goal\n",
        "    def action_cost(self, s, a, s1): return 1\n",
        "    def h(self, node):               return 0\n",
        "\n",
        "    def __str__(self):\n",
        "        return '{}({!r}, {!r})'.format(\n",
        "            type(self).__name__, self.initial, self.goal)\n",
        "\n",
        "class Node:\n",
        "    \"A Node in a search tree.\"\n",
        "    def __init__(self, state, parent=None, action=None, path_cost=0):\n",
        "        self.__dict__.update(state=state, parent=parent, action=action, path_cost=path_cost)\n",
        "\n",
        "    def __repr__(self): return '<{}>'.format(self.state)\n",
        "    def __len__(self): return 0 if self.parent is None else (1 + len(self.parent))\n",
        "    def __lt__(self, other): return self.path_cost < other.path_cost\n",
        "\n",
        "failure = Node('failure', path_cost=math.inf) # Indicates an algorithm couldn't find a solution.\n",
        "cutoff  = Node('cutoff',  path_cost=math.inf) # Indicates iterative deepening search was cut off.\n",
        "\n",
        "def expand(problem, node):\n",
        "    \"Expand a node, generating the children nodes.\"\n",
        "    s = node.state\n",
        "    for action in problem.actions(s):\n",
        "        s1 = problem.result(s, action)\n",
        "        cost = node.path_cost + problem.action_cost(s, action, s1)\n",
        "        yield Node(s1, node, action, cost)\n",
        "\n",
        "def path_actions(node):\n",
        "    \"The sequence of actions to get to this node.\"\n",
        "    if node.parent is None:\n",
        "        return []\n",
        "    return path_actions(node.parent) + [node.action]\n",
        "\n",
        "def path_states(node):\n",
        "    \"The sequence of states to get to this node.\"\n",
        "    if node in (cutoff, failure, None):\n",
        "        return []\n",
        "    return path_states(node.parent) + [node.state]"
      ]
    },
    {
      "cell_type": "code",
      "execution_count": 2,
      "metadata": {
        "id": "KN2QrV0a2cdz"
      },
      "outputs": [],
      "source": [
        "# PriorityQueue - note\n",
        "# there is a small difference from the\n",
        "# book implementation in order to ensure\n",
        "# sorting stability\n",
        "\n",
        "class PriorityQueue:\n",
        "    \"\"\"A queue in which the item with minimum f(item) is always popped first.\"\"\"\n",
        "\n",
        "    def __init__(self, items=(), key=lambda x: x):\n",
        "        self.key = key\n",
        "        self.items = [] # a heap of (score, item) pairs\n",
        "        self.item_count = 0\n",
        "        for item in items:\n",
        "            self.add(item)\n",
        "\n",
        "    def add(self, item):\n",
        "        \"\"\"Add item to the queuez.\"\"\"\n",
        "        pair = ((self.key(item),self.item_count), item)\n",
        "        heapq.heappush(self.items, pair)\n",
        "        self.item_count+=1\n",
        "\n",
        "    def pop(self):\n",
        "        \"\"\"Pop and return the item with min f(item) value.\"\"\"\n",
        "        return heapq.heappop(self.items)[1]\n",
        "\n",
        "    def top(self): return self.items[0][1]\n",
        "\n",
        "    def get_items(self):\n",
        "        return self.items.copy()\n",
        "\n",
        "    def __len__(self): return len(self.items)"
      ]
    },
    {
      "cell_type": "code",
      "execution_count": 3,
      "metadata": {
        "id": "KNjSuRGE2cd0"
      },
      "outputs": [],
      "source": [
        "# Different search algorithms\n",
        "# defined by appropriate definition of priorities\n",
        "\n",
        "\n",
        "def best_first_search(problem, f):\n",
        "    \"Search nodes with minimum f(node) value first.\"\n",
        "    node = Node(problem.initial)\n",
        "    frontier = PriorityQueue([node], key=f)\n",
        "    reached = {problem.initial: node}\n",
        "    frontiers = []\n",
        "    while frontier:\n",
        "        frontier_items = frontier.get_items()\n",
        "        frontiers.append(frontier_items)\n",
        "        node = frontier.pop()\n",
        "\n",
        "        if problem.is_goal(node.state):\n",
        "            return (node,reached,frontiers)\n",
        "        for child in expand(problem, node):\n",
        "            s = child.state\n",
        "            if s not in reached or child.path_cost < reached[s].path_cost:\n",
        "                reached[s] = child\n",
        "                frontier.add(child)\n",
        "\n",
        "    return (failure, reached, frontiers)\n",
        "\n",
        "def g(n): return n.path_cost\n",
        "\n",
        "def astar_search(problem, h=None):\n",
        "    \"\"\"Search nodes with minimum f(n) = g(n) + h(n).\"\"\"\n",
        "    h = h or problem.h\n",
        "    return best_first_search(problem, f=lambda n: g(n) + h(n))\n",
        "\n",
        "def greedy_bfs(problem, h=None):\n",
        "    \"\"\"Search nodes with minimum h(n).\"\"\"\n",
        "    h = h or problem.h\n",
        "    return best_first_search(problem, f=h)\n",
        "\n",
        "def uniform_cost_search(problem):\n",
        "    \"Search nodes with minimum path cost first.\"\n",
        "    return best_first_search(problem, f=g)\n",
        "\n",
        "def breadth_first_bfs(problem):\n",
        "    \"Search shallowest nodes in the search tree first; using best-first.\"\n",
        "    return best_first_search(problem, f=len)\n"
      ]
    },
    {
      "cell_type": "markdown",
      "metadata": {
        "id": "VpaZo5Jj2cd1"
      },
      "source": [
        "# QUESTION 1 Search (Basic) - 6 points\n",
        "\n",
        "This question looks at how the RouteProblem works using the classic map of Romania.\n",
        "\n",
        "<img src=\"images/romania_map.png\" width=\"45%\">\n",
        "\n",
        "1. Create a copy of the map of Romania specified below and call it romania_new\n",
        "2. Add a connection from Fagaras to Vaslui with a cost of 345 in romania_new\n",
        "3. Create a new RouteProblem called r_new using the **romania_new** map for the pair Arad (initial state) to Eforie (goal state)\n",
        "4. Run **GreedySearch** search, print the solution path and path cost for r_new\n",
        "5. Run **BreadthFirstSearch** search, print the solution path and path cost for r_new\n",
        "6. Run **UniformCostSearch** search, print the solution path and path cost for r_new\n",
        "\n",
        "*NOTE: an example of route problems, search calls, and printing is provided below*\n",
        "*NOTE: node class has a cost already and you recieve the final node in the path from search functions which holds the total cost*"
      ]
    },
    {
      "cell_type": "code",
      "execution_count": 4,
      "metadata": {
        "id": "XTL-yx7i2cd1"
      },
      "outputs": [],
      "source": [
        "class RouteProblem(Problem):\n",
        "    \"\"\"A problem to find a route between locations on a `Map`.\n",
        "    Create a problem with RouteProblem(start, goal, map=Map(...)}).\n",
        "    States are the vertexes in the Map graph; actions are destination states.\"\"\"\n",
        "\n",
        "    def actions(self, state):\n",
        "        \"\"\"The places neighboring `state`.\"\"\"\n",
        "        return self.map.neighbors[state]\n",
        "\n",
        "    def result(self, state, action):\n",
        "        \"\"\"Go to the `action` place, if the map says that is possible.\"\"\"\n",
        "        return action if action in self.map.neighbors[state] else state\n",
        "\n",
        "    def action_cost(self, s, action, s1):\n",
        "        \"\"\"The distance (cost) to go from s to s1.\"\"\"\n",
        "        return self.map.distances[s, s1]\n",
        "\n",
        "    def h(self, node):\n",
        "        \"Straight-line distance between state and the goal.\"\n",
        "        locs = self.map.locations\n",
        "        return straight_line_distance(locs[node.state], locs[self.goal])\n",
        "\n",
        "\n",
        "def straight_line_distance(A, B):\n",
        "    \"Straight-line distance between two points.\"\n",
        "    return sum(abs(a - b)**2 for (a, b) in zip(A, B)) ** 0.5"
      ]
    },
    {
      "cell_type": "code",
      "execution_count": 5,
      "metadata": {
        "id": "s_sxU2Uc2cd1"
      },
      "outputs": [],
      "source": [
        "class Map:\n",
        "    \"\"\"A map of places in a 2D world: a graph with vertexes and links between them.\n",
        "    In `Map(links, locations)`, `links` can be either [(v1, v2)...] pairs,\n",
        "    or a {(v1, v2): distance...} dict. Optional `locations` can be {v1: (x, y)}\n",
        "    If `directed=False` then for every (v1, v2) link, we add a (v2, v1) link.\"\"\"\n",
        "\n",
        "    def __init__(self, links, locations=None, directed=False):\n",
        "        if not hasattr(links, 'items'): # Distances are 1 by default\n",
        "            links = {link: 1 for link in links}\n",
        "        if not directed:\n",
        "            for (v1, v2) in list(links):\n",
        "                links[v2, v1] = links[v1, v2]\n",
        "        self.distances = links\n",
        "        self.neighbors = multimap(links)\n",
        "        self.locations = locations or defaultdict(lambda: (0, 0))\n",
        "\n",
        "\n",
        "def multimap(pairs) -> dict:\n",
        "    \"Given (key, val) pairs, make a dict of {key: [val,...]}.\"\n",
        "    result = defaultdict(list)\n",
        "    for key, val in pairs:\n",
        "        result[key].append(val)\n",
        "    return result"
      ]
    },
    {
      "cell_type": "code",
      "execution_count": 6,
      "metadata": {
        "colab": {
          "base_uri": "https://localhost:8080/"
        },
        "id": "Z9XfJjfz2cd2",
        "outputId": "b3995e01-356b-421c-d6f2-a6a195d2998e"
      },
      "outputs": [
        {
          "output_type": "stream",
          "name": "stdout",
          "text": [
            "Greedy Search Examples\n",
            "['A']\n",
            "['A', 'S', 'F', 'B']\n",
            "['N', 'I', 'V', 'U', 'B', 'F', 'S', 'R', 'C', 'D', 'M', 'L']\n",
            "['E', 'H', 'U', 'B', 'F', 'S', 'A', 'T']\n",
            "['O', 'S', 'R', 'C', 'D', 'M']\n",
            "Breadth First Search Examples\n",
            "['A']\n",
            "['A', 'S', 'F', 'B']\n",
            "['N', 'I', 'V', 'U', 'B', 'F', 'S', 'A', 'T', 'L']\n",
            "['E', 'H', 'U', 'B', 'F', 'S', 'A', 'T']\n",
            "['O', 'Z', 'A', 'T', 'L', 'M']\n",
            "Uniform Cost Search Examples\n",
            "['A']\n",
            "['A', 'S', 'R', 'P', 'B']\n",
            "['N', 'I', 'V', 'U', 'B', 'P', 'C', 'D', 'M', 'L']\n",
            "['E', 'H', 'U', 'B', 'P', 'R', 'S', 'A', 'T']\n",
            "['O', 'Z', 'A', 'T', 'L', 'M']\n"
          ]
        }
      ],
      "source": [
        "# Some specific RouteProblems for you to examine, specifically using DIjkstra, Breadth First, and Greedy will generally give you very different results when expanding nodes that have many edges to explore\n",
        "\n",
        "romania = Map(\n",
        "    {('O', 'Z'):  71, ('O', 'S'): 151, ('A', 'Z'): 75, ('A', 'S'): 140, ('A', 'T'): 118,\n",
        "     ('L', 'T'): 111, ('L', 'M'):  70, ('D', 'M'): 75, ('C', 'D'): 120, ('C', 'R'): 146,\n",
        "     ('C', 'P'): 138, ('R', 'S'):  80, ('F', 'S'): 99, ('B', 'F'): 211, ('B', 'P'): 101,\n",
        "     ('B', 'G'):  90, ('B', 'U'):  85, ('H', 'U'): 98, ('E', 'H'):  86, ('U', 'V'): 142,\n",
        "     ('I', 'V'):  92, ('I', 'N'):  87, ('P', 'R'): 97, },\n",
        "    {'A': ( 76, 497), 'B': (400, 327), 'C': (246, 285), 'D': (160, 296), 'E': (558, 294),\n",
        "     'F': (285, 460), 'G': (368, 257), 'H': (548, 355), 'I': (488, 535), 'L': (162, 379),\n",
        "     'M': (160, 343), 'N': (407, 561), 'O': (117, 580), 'P': (311, 372), 'R': (227, 412),\n",
        "     'S': (187, 463), 'T': ( 83, 414), 'U': (471, 363), 'V': (535, 473), 'Z': (92, 539)})\n",
        "\n",
        "\n",
        "romania_r0 = RouteProblem('A', 'A', map=romania)\n",
        "romania_r1 = RouteProblem('A', 'B', map=romania)\n",
        "romania_r2 = RouteProblem('N', 'L', map=romania)\n",
        "romania_r3 = RouteProblem('E', 'T', map=romania)\n",
        "romania_r4 = RouteProblem('O', 'M', map=romania)\n",
        "\n",
        "print(\"Greedy Search Examples\")\n",
        "greedy_s0, reached, frontiers = greedy_bfs(romania_r0)\n",
        "greedy_s1, reached, frontiers = greedy_bfs(romania_r1)\n",
        "greedy_s2, reached, frontiers = greedy_bfs(romania_r2)\n",
        "greedy_s3, reached, frontiers = greedy_bfs(romania_r3)\n",
        "greedy_s4, reached, frontiers = greedy_bfs(romania_r4)\n",
        "print(path_states(greedy_s0))\n",
        "print(path_states(greedy_s1))\n",
        "print(path_states(greedy_s2))\n",
        "print(path_states(greedy_s3))\n",
        "print(path_states(greedy_s4))\n",
        "\n",
        "print(\"Breadth First Search Examples\")\n",
        "bfs_s0, reached, frontiers = breadth_first_bfs(romania_r0)\n",
        "bfs_s1, reached, frontiers = breadth_first_bfs(romania_r1)\n",
        "bfs_s2, reached, frontiers = breadth_first_bfs(romania_r2)\n",
        "bfs_s3, reached, frontiers = breadth_first_bfs(romania_r3)\n",
        "bfs_s4, reached, frontiers = breadth_first_bfs(romania_r4)\n",
        "print(path_states(bfs_s0))\n",
        "print(path_states(bfs_s1))\n",
        "print(path_states(bfs_s2))\n",
        "print(path_states(bfs_s3))\n",
        "print(path_states(bfs_s4))\n",
        "\n",
        "print(\"Uniform Cost Search Examples\")\n",
        "uniform_s0, reached, frontiers = uniform_cost_search(romania_r0)\n",
        "uniform_s1, reached, frontiers = uniform_cost_search(romania_r1)\n",
        "uniform_s2, reached, frontiers = uniform_cost_search(romania_r2)\n",
        "uniform_s3, reached, frontiers = uniform_cost_search(romania_r3)\n",
        "uniform_s4, reached, frontiers = uniform_cost_search(romania_r4)\n",
        "print(path_states(uniform_s0))\n",
        "print(path_states(uniform_s1))\n",
        "print(path_states(uniform_s2))\n",
        "print(path_states(uniform_s3))\n",
        "print(path_states(uniform_s4))\n",
        "\n",
        "# the answer should be\n",
        "# Greedy Search Examples\n",
        "# ['A']\n",
        "# ['A', 'S', 'F', 'B']\n",
        "# ['N', 'I', 'V', 'U', 'B', 'F', 'S', 'R', 'C', 'D', 'M', 'L']\n",
        "# ['E', 'H', 'U', 'B', 'F', 'S', 'A', 'T']\n",
        "# ['O', 'S', 'R', 'C', 'D', 'M']\n",
        "# Breadth First Search Examples\n",
        "# ['A']\n",
        "# ['A', 'S', 'F', 'B']\n",
        "# ['N', 'I', 'V', 'U', 'B', 'F', 'S', 'A', 'T', 'L']\n",
        "# ['E', 'H', 'U', 'B', 'F', 'S', 'A', 'T']\n",
        "# ['O', 'Z', 'A', 'T', 'L', 'M']\n",
        "# Uniform Cost Search Examples\n",
        "# ['A']\n",
        "# ['A', 'S', 'R', 'P', 'B']\n",
        "# ['N', 'I', 'V', 'U', 'B', 'P', 'C', 'D', 'M', 'L']\n",
        "# ['E', 'H', 'U', 'B', 'P', 'R', 'S', 'A', 'T']\n",
        "# ['O', 'Z', 'A', 'T', 'L', 'M']"
      ]
    },
    {
      "cell_type": "code",
      "execution_count": 7,
      "metadata": {
        "id": "TRO9NW0q2cd3"
      },
      "outputs": [],
      "source": [
        "#1. Create a copy of the map of Romania specified below and call it romania_new\n",
        "romania_new = Map(\n",
        "    {('O', 'Z'):  71, ('O', 'S'): 151, ('A', 'Z'): 75, ('A', 'S'): 140, ('A', 'T'): 118,\n",
        "     ('L', 'T'): 111, ('L', 'M'):  70, ('D', 'M'): 75, ('C', 'D'): 120, ('C', 'R'): 146,\n",
        "     ('C', 'P'): 138, ('R', 'S'):  80, ('F', 'S'): 99, ('B', 'F'): 211, ('B', 'P'): 101,\n",
        "     ('B', 'G'):  90, ('B', 'U'):  85, ('H', 'U'): 98, ('E', 'H'):  86, ('U', 'V'): 142,\n",
        "     ('I', 'V'):  92, ('I', 'N'):  87, ('P', 'R'): 97, ('F', 'V'): 345},\n",
        "    {'A': ( 76, 497), 'B': (400, 327), 'C': (246, 285), 'D': (160, 296), 'E': (558, 294),\n",
        "     'F': (285, 460), 'G': (368, 257), 'H': (548, 355), 'I': (488, 535), 'L': (162, 379),\n",
        "     'M': (160, 343), 'N': (407, 561), 'O': (117, 580), 'P': (311, 372), 'R': (227, 412),\n",
        "     'S': (187, 463), 'T': ( 83, 414), 'U': (471, 363), 'V': (535, 473), 'Z': (92, 539)})\n",
        "\n",
        "#2. Add a connection from Fagaras to Vaslui with a cost of 345 in romania_new\n",
        "# added as ('F', 'V'):345\n",
        "#3. Create a new RouteProblem called r_new using the **romania_new** map for the pair Arad (initial state) to Eforie (goal state)\n",
        "#r_problem = Problem('A', 'E', map=romania_new)\n",
        "r_new = RouteProblem('A', 'E', map=romania_new)\n",
        "r_old = RouteProblem('A', 'E', map=romania)\n"
      ]
    },
    {
      "cell_type": "code",
      "source": [
        "#4. Run **GreedySearch** search, print the solution path and path cost for r_new\n",
        "print('Greedy Search for r_new')\n",
        "\n",
        "greedysearch, reached, frontiers = greedy_bfs(r_new)\n",
        "greedy_search_old, reached, frontiers = greedy_bfs(r_old)\n",
        "\n",
        "print(f\"NEW: {path_states(greedysearch)} WITH PATH COST {greedysearch.path_cost}\")\n",
        "print(f\"OLD: {path_states(greedy_search_old)} WITH PATH COST {greedy_search_old.path_cost}\")"
      ],
      "metadata": {
        "colab": {
          "base_uri": "https://localhost:8080/"
        },
        "id": "nvaidNyp6VoC",
        "outputId": "ed4f645a-e2f4-4fab-ef3a-151b0e9ba8d8"
      },
      "execution_count": 8,
      "outputs": [
        {
          "output_type": "stream",
          "name": "stdout",
          "text": [
            "Greedy Search for r_new\n",
            "NEW: ['A', 'S', 'F', 'B', 'U', 'H', 'E'] WITH PATH COST 719\n",
            "OLD: ['A', 'S', 'F', 'B', 'U', 'H', 'E'] WITH PATH COST 719\n"
          ]
        }
      ]
    },
    {
      "cell_type": "code",
      "source": [
        "#5. Run **BreadthFirstSearch** search, print the solution path and path cost for r_new\n",
        "print('Breadth First Search for r_new')\n",
        "\n",
        "bfs_search, reached, frontiers = breadth_first_bfs(r_new)\n",
        "bfs_search_old, reached, frontiers = breadth_first_bfs(r_old)\n",
        "\n",
        "print(f\"NEW: {path_states(bfs_search)} WITH PATH COST {bfs_search.path_cost}\")\n",
        "print(f\"OLD: {path_states(bfs_search_old)} WITH PATH COST {bfs_search_old.path_cost}\")\n"
      ],
      "metadata": {
        "colab": {
          "base_uri": "https://localhost:8080/"
        },
        "id": "5rO6cafq6r7Z",
        "outputId": "c2dc6b6b-86b2-4cdf-f75b-2461ae286cdb"
      },
      "execution_count": 9,
      "outputs": [
        {
          "output_type": "stream",
          "name": "stdout",
          "text": [
            "Breadth First Search for r_new\n",
            "NEW: ['A', 'S', 'F', 'V', 'U', 'H', 'E'] WITH PATH COST 910\n",
            "OLD: ['A', 'S', 'F', 'B', 'U', 'H', 'E'] WITH PATH COST 719\n"
          ]
        }
      ]
    },
    {
      "cell_type": "code",
      "source": [
        "#6. Run **UniformCostSearch** search, print the solution path and path cost for r_new\n",
        "print('Uniform Cost Search for r_new')\n",
        "\n",
        "ucs_search, reached, frontiers = uniform_cost_search(r_new)\n",
        "ucs_search_old, reached, frontiers = uniform_cost_search(r_old)\n",
        "\n",
        "print(f\"NEW: {path_states(ucs_search)} WITH PATH COST {ucs_search.path_cost}\")\n",
        "print(f\"OLD: {path_states(ucs_search_old)} WITH PATH COST {ucs_search_old.path_cost}\")"
      ],
      "metadata": {
        "colab": {
          "base_uri": "https://localhost:8080/"
        },
        "id": "coFx6rzC6slk",
        "outputId": "84cf966a-c10a-4f86-8abf-d026692fe5c6"
      },
      "execution_count": 10,
      "outputs": [
        {
          "output_type": "stream",
          "name": "stdout",
          "text": [
            "Uniform Cost Search for r_new\n",
            "NEW: ['A', 'S', 'R', 'P', 'B', 'U', 'H', 'E'] WITH PATH COST 687\n",
            "OLD: ['A', 'S', 'R', 'P', 'B', 'U', 'H', 'E'] WITH PATH COST 687\n"
          ]
        }
      ]
    },
    {
      "cell_type": "code",
      "execution_count": 11,
      "metadata": {
        "id": "UIrYtLzD2cd3"
      },
      "outputs": [],
      "source": [
        "# Your Q1 ANSWER GOES HERE\n",
        "\n",
        "# Part 1 and 2 ANSWER\n",
        "\n",
        "# Part 3 ANSWER\n",
        "\n",
        "# Part 4 ANSWER\n",
        "\n",
        "# Part 5 ANSWER\n",
        "\n",
        "# Part 6 ANSWER\n"
      ]
    },
    {
      "cell_type": "markdown",
      "metadata": {
        "id": "YtE_K-Sm2cd4"
      },
      "source": [
        "# QUESTION 2 Search (Basic) - 4 points\n",
        "Here we dig deeper on the search process and compare uniform vs A* search frontiers.\n",
        "1. Implement the function frontier_lengths. This function should return a list with the lengths of the frontier during the operation of the search algorithm given the frontier list.\n",
        "2. Define a new route problem called route_l_f_new using romania_new going from  Lugoj (initial state) to  Fagaras (goal state).\n",
        "3. Now run this function on the output of **UniformCostSearch** for problem route_l_f_new above AND print the object returned (see example below).\n",
        "4. Now run this function on the output of **AStarSearch** for problem route_l_f_new AND print the object returned (see example below)."
      ]
    },
    {
      "cell_type": "code",
      "source": [
        "#INPUT: Frontier list\n",
        "#OUTPUT: Lengths of the frontier during the search algo\n",
        "#def frontier_lengths(frontiers):\n",
        "#def frontier_lengths(frontiers):\n",
        "    #frontier_lengths = []\n",
        "    #path_states = path_states(frontiers)\n",
        "    #print(path_states)\n",
        "\n",
        "    #return frontier_lengths"
      ],
      "metadata": {
        "id": "9xFhjFEx7frs"
      },
      "execution_count": 12,
      "outputs": []
    },
    {
      "cell_type": "code",
      "source": [
        "#1. Implement the function frontier_lengths. This function should return a list with the lengths of the frontier during the operation of the search algorithm given the frontier list.\n",
        "\n",
        "def frontier_lengths(frontiers):\n",
        "    \"\"\"Return a list with the lengths of the frontier during the search algorithm.\"\"\"\n",
        "    lengths = []\n",
        "    for frontier in frontiers:\n",
        "        lengths.append(len(frontier))\n",
        "        print(f\"FRONTIER SNAPSHOT: {frontier} len of {len(frontier)}\")\n",
        "    return lengths"
      ],
      "metadata": {
        "id": "DpUz7V_PZ4ay"
      },
      "execution_count": 13,
      "outputs": []
    },
    {
      "cell_type": "code",
      "source": [
        "#2. Define a new route problem called route_l_f_new using romania_new going from  Lugoj (initial state) to  Fagaras (goal state).\n",
        "route_l_f_new = RouteProblem('L', 'F', map=romania_new)"
      ],
      "metadata": {
        "id": "A6x7EDohIZFi"
      },
      "execution_count": 14,
      "outputs": []
    },
    {
      "cell_type": "code",
      "source": [
        "#3. Now run this function on the output of **UniformCostSearch** for problem route_l_f_new above AND print the object returned (see example below).\n",
        "uniform_search, reached, uc_frontiers = uniform_cost_search(route_l_f_new)\n",
        "print(f\"FRONTIER LENGTH OUTPUT FROM UNIFORM COST SEARCH: {frontier_lengths(uc_frontiers)}\")"
      ],
      "metadata": {
        "colab": {
          "base_uri": "https://localhost:8080/"
        },
        "id": "2Ub4H2JJIgDp",
        "outputId": "48d95803-9b0b-43e0-d9fa-b9756f092523"
      },
      "execution_count": 15,
      "outputs": [
        {
          "output_type": "stream",
          "name": "stdout",
          "text": [
            "FRONTIER SNAPSHOT: [((0, 0), <L>)] len of 1\n",
            "FRONTIER SNAPSHOT: [((70, 2), <M>), ((111, 1), <T>)] len of 2\n",
            "FRONTIER SNAPSHOT: [((111, 1), <T>), ((145, 3), <D>)] len of 2\n",
            "FRONTIER SNAPSHOT: [((145, 3), <D>), ((229, 4), <A>)] len of 2\n",
            "FRONTIER SNAPSHOT: [((229, 4), <A>), ((265, 5), <C>)] len of 2\n",
            "FRONTIER SNAPSHOT: [((265, 5), <C>), ((304, 6), <Z>), ((369, 7), <S>)] len of 3\n",
            "FRONTIER SNAPSHOT: [((304, 6), <Z>), ((369, 7), <S>), ((411, 8), <R>), ((403, 9), <P>)] len of 4\n",
            "FRONTIER SNAPSHOT: [((369, 7), <S>), ((375, 10), <O>), ((411, 8), <R>), ((403, 9), <P>)] len of 4\n",
            "FRONTIER SNAPSHOT: [((375, 10), <O>), ((403, 9), <P>), ((411, 8), <R>), ((468, 11), <F>)] len of 4\n",
            "FRONTIER SNAPSHOT: [((403, 9), <P>), ((468, 11), <F>), ((411, 8), <R>)] len of 3\n",
            "FRONTIER SNAPSHOT: [((411, 8), <R>), ((468, 11), <F>), ((504, 12), <B>)] len of 3\n",
            "FRONTIER SNAPSHOT: [((468, 11), <F>), ((504, 12), <B>)] len of 2\n",
            "FRONTIER LENGTH OUTPUT FROM UNIFORM COST SEARCH: [1, 2, 2, 2, 2, 3, 4, 4, 4, 3, 3, 2]\n"
          ]
        }
      ]
    },
    {
      "cell_type": "code",
      "source": [
        "#4. Now run this function on the output of **AStarSearch** for problem route_l_f_new AND print the object returned (see example below).\n",
        "astar_search_result, reached, astar_frontiers = astar_search(route_l_f_new)\n",
        "print(f\"FRONTIER LENGTH OUTPUT FROM A* SEARCH: {frontier_lengths(astar_frontiers)}\")"
      ],
      "metadata": {
        "colab": {
          "base_uri": "https://localhost:8080/"
        },
        "id": "b5IOQn0LIgqf",
        "outputId": "351aeee5-5a67-42fe-a75b-60b3d78a75cf"
      },
      "execution_count": 16,
      "outputs": [
        {
          "output_type": "stream",
          "name": "stdout",
          "text": [
            "FRONTIER SNAPSHOT: [((147.27525250360293, 0), <L>)] len of 1\n",
            "FRONTIER SNAPSHOT: [((241.21331723905124, 2), <M>), ((318.17142660125694, 1), <T>)] len of 2\n",
            "FRONTIER SNAPSHOT: [((318.17142660125694, 1), <T>), ((351.20620747203515, 3), <D>)] len of 2\n",
            "FRONTIER SNAPSHOT: [((351.20620747203515, 3), <D>), ((441.24985276791125, 4), <A>)] len of 2\n",
            "FRONTIER SNAPSHOT: [((441.24985276791125, 4), <A>), ((444.2930561957155, 5), <C>)] len of 2\n",
            "FRONTIER SNAPSHOT: [((444.2930561957155, 5), <C>), ((512.5425616031414, 6), <Z>), ((467.0459076147495, 7), <S>)] len of 3\n",
            "FRONTIER SNAPSHOT: [((467.0459076147495, 7), <S>), ((494.7605579756357, 9), <P>), ((486.28612089887486, 8), <R>), ((512.5425616031414, 6), <Z>)] len of 4\n",
            "FRONTIER SNAPSHOT: [((468.0, 11), <F>), ((486.28612089887486, 8), <R>), ((512.5425616031414, 6), <Z>), ((726.455806409023, 10), <O>), ((494.7605579756357, 9), <P>)] len of 5\n",
            "FRONTIER LENGTH OUTPUT FROM A* SEARCH: [1, 2, 2, 2, 2, 3, 4, 5]\n"
          ]
        }
      ]
    },
    {
      "cell_type": "code",
      "execution_count": 17,
      "metadata": {
        "colab": {
          "base_uri": "https://localhost:8080/"
        },
        "id": "wwKZmjW52cd4",
        "outputId": "71e19de6-bc5c-4bde-f114-0f63f44c7ad9"
      },
      "outputs": [
        {
          "output_type": "stream",
          "name": "stdout",
          "text": [
            "FRONTIER SNAPSHOT: [((0, 0), <A>)] len of 1\n",
            "FRONTIER SNAPSHOT: [((75, 1), <Z>), ((140, 2), <S>), ((118, 3), <T>)] len of 3\n",
            "FRONTIER SNAPSHOT: [((118, 3), <T>), ((140, 2), <S>), ((146, 4), <O>)] len of 3\n",
            "FRONTIER SNAPSHOT: [((140, 2), <S>), ((146, 4), <O>), ((229, 5), <L>)] len of 3\n",
            "FRONTIER SNAPSHOT: [((146, 4), <O>), ((229, 5), <L>), ((220, 6), <R>), ((239, 7), <F>)] len of 4\n",
            "FRONTIER SNAPSHOT: [((220, 6), <R>), ((229, 5), <L>), ((239, 7), <F>)] len of 3\n",
            "FRONTIER SNAPSHOT: [((229, 5), <L>), ((239, 7), <F>), ((366, 8), <C>), ((317, 9), <P>)] len of 4\n",
            "FRONTIER SNAPSHOT: [((239, 7), <F>), ((299, 10), <M>), ((366, 8), <C>), ((317, 9), <P>)] len of 4\n",
            "FRONTIER SNAPSHOT: [((299, 10), <M>), ((317, 9), <P>), ((366, 8), <C>), ((450, 11), <B>)] len of 4\n",
            "FRONTIER SNAPSHOT: [((317, 9), <P>), ((374, 12), <D>), ((366, 8), <C>), ((450, 11), <B>)] len of 4\n",
            "FRONTIER SNAPSHOT: [((366, 8), <C>), ((374, 12), <D>), ((450, 11), <B>), ((418, 13), <B>)] len of 4\n",
            "FRONTIER SNAPSHOT: [((374, 12), <D>), ((418, 13), <B>), ((450, 11), <B>)] len of 3\n",
            "FRONTIER SNAPSHOT: [((418, 13), <B>), ((450, 11), <B>)] len of 2\n",
            "[1, 3, 3, 3, 4, 3, 4, 4, 4, 4, 4, 3, 2]\n"
          ]
        }
      ],
      "source": [
        "# Your Q2 PART 1 ANSWER GOES HERE\n",
        "# Part 1 ANSWER\n",
        "\n",
        "# An example to illustrate functionality and printing output on the Arad to Bucharest route\n",
        "s1, reached, frontiers = uniform_cost_search(romania_r1)\n",
        "#print(frontiers)\n",
        "\n",
        "# This will not work until you implement frontier_lengths above\n",
        "print(frontier_lengths(frontiers))\n",
        "\n",
        "# the answer should be\n",
        "# [1, 3, 3, 3, 4, 3, 4, 4, 4, 4, 4, 3, 2]\n",
        "#['A', 'S', 'R', 'P', 'B', 'U', 'H', 'E']\n",
        "\n"
      ]
    },
    {
      "cell_type": "code",
      "execution_count": 18,
      "metadata": {
        "id": "yFW-ews32cd4"
      },
      "outputs": [],
      "source": [
        "# Q2 PART 2 ANSWER GOES HERE\n",
        "\n",
        "# Part 2 ANSWER\n"
      ]
    },
    {
      "cell_type": "code",
      "execution_count": 19,
      "metadata": {
        "id": "PrP_cAez2cd4"
      },
      "outputs": [],
      "source": [
        "# Q2 PART 3 ANSWER GOES HERE\n",
        "\n",
        "# Part 3 ANSWER\n"
      ]
    },
    {
      "cell_type": "code",
      "execution_count": 20,
      "metadata": {
        "id": "IblPkXh42cd4"
      },
      "outputs": [],
      "source": [
        "# Q2 PART 4 ANSWER GOES HERE\n",
        "\n",
        "# Part 4 ANSWER\n"
      ]
    },
    {
      "cell_type": "markdown",
      "metadata": {
        "id": "AXzeYPjI2cd4"
      },
      "source": [
        "# QUESTION 3 New Search (Expected) - 6 points\n",
        "\n",
        "Static weighted A* star is a way to tradeoff optimality for speed. Here you will implement a static weighting of the heuristic in a new A* function. In this search algorithm, the node selected for expansion is biased toward the heuruistic when the weight $\\omega>1$. *NOTE: Dynamic weighted A\\* also exists, where $\\omega$ adjusts with respect to some factor, such as how close we are to the goal.*\n",
        "\n",
        "The formula for the cost funtion for static weighted astar is $f(n) = g(n) + \\omega h(n)$\n",
        "\n",
        "1. Write your own search algorithm called **static_weighted_astar_search**.  Do not modify *best_first_search*, but rather, call it and assign priorities appropritetly to each node, see the example search algorithms given to you above. **static_weighted_astar_search** should accept the route problem and the weight value $\\omega$\n",
        "2. Print the path, path cost, and frontier lengths for **UniformSearch** on route_l_f_new problem.\n",
        "3. Print the path, path cost, and frontier lengths for **AStarSearch** on route_l_f_new problem.\n",
        "4. Use the new static_weighted_astar_search algorithm on route_l_f_new with $\\omega=1.0$.\n",
        "   Print the path, path cost, and frontier lengths for **static_weighted_astar_search** on route_l_f_new problem.\n",
        "5. Use the new static_weighted_astar_search algorithm on route_l_f_new with $\\omega=10.0$.\n",
        "   Print the path, path cost, and frontier lengths for **static_weighted_astar_search** on route_l_f_new problem.\n",
        "6. Use the new static_weighted_astar_search algorithm on route_l_f_new with $\\omega=100.0$.\n",
        "   Print the path, path cost, and frontier lengths for **static_weighted_astar_search** on route_l_f_new problem.\n"
      ]
    },
    {
      "cell_type": "code",
      "source": [
        "'''\n",
        "def best_first_search(problem, f):\n",
        "    \"Search nodes with minimum f(node) value first.\"\n",
        "    node = Node(problem.initial)\n",
        "    frontier = PriorityQueue([node], key=f)\n",
        "    reached = {problem.initial: node}\n",
        "    frontiers = []\n",
        "    while frontier:\n",
        "        frontier_items = frontier.get_items()\n",
        "        frontiers.append(frontier_items)\n",
        "        node = frontier.pop()\n",
        "\n",
        "        if problem.is_goal(node.state):\n",
        "            return (node,reached,frontiers)\n",
        "        for child in expand(problem, node):\n",
        "            s = child.state\n",
        "            if s not in reached or child.path_cost < reached[s].path_cost:\n",
        "                reached[s] = child\n",
        "                frontier.add(child)\n",
        "\n",
        "    return (failure, reached, frontiers)\n",
        "'''"
      ],
      "metadata": {
        "id": "8dYb-LFCTGp7"
      },
      "execution_count": 21,
      "outputs": []
    },
    {
      "cell_type": "code",
      "source": [
        "#1. Write your own search algorithm called **static_weighted_astar_search**.  Do not modify *best_first_search*, but rather, call it and assign priorities appropritetly to each node, see the example search algorithms given to you above. **static_weighted_astar_search** should accept the route problem and the weight value $\\omega$\n",
        "#def best_first_search(problem, f):\n",
        "\n",
        "def static_weighted_astar_search(problem, omega):\n",
        "\n",
        "\n",
        "    def f(node):\n",
        "      return node.path_cost + omega * problem.h(node)\n",
        "\n",
        "    return best_first_search(problem, f)"
      ],
      "metadata": {
        "id": "-VxCjTFcSgXo"
      },
      "execution_count": 47,
      "outputs": []
    },
    {
      "cell_type": "code",
      "source": [
        "#2. Print the path, path cost, and frontier lengths for **UniformSearch** on route_l_f_new problem.\n",
        "ucs_search_result, ucs_reached, ucs_frontiers = uniform_cost_search(route_l_f_new)\n",
        "print(f\"UniformSearch PATH : {path_states(ucs_search_result)} \\nPATH COST: {ucs_search_result.path_cost} \\nFRONTIER LENGTHS: {frontier_lengths(ucs_frontiers)}\")\n",
        "#"
      ],
      "metadata": {
        "colab": {
          "base_uri": "https://localhost:8080/"
        },
        "id": "_l3NcGKqSwmU",
        "outputId": "f5ad7c35-5e13-4bd5-f229-71a042c48d89"
      },
      "execution_count": 49,
      "outputs": [
        {
          "output_type": "stream",
          "name": "stdout",
          "text": [
            "FRONTIER SNAPSHOT: [((0, 0), <L>)] len of 1\n",
            "FRONTIER SNAPSHOT: [((70, 2), <M>), ((111, 1), <T>)] len of 2\n",
            "FRONTIER SNAPSHOT: [((111, 1), <T>), ((145, 3), <D>)] len of 2\n",
            "FRONTIER SNAPSHOT: [((145, 3), <D>), ((229, 4), <A>)] len of 2\n",
            "FRONTIER SNAPSHOT: [((229, 4), <A>), ((265, 5), <C>)] len of 2\n",
            "FRONTIER SNAPSHOT: [((265, 5), <C>), ((304, 6), <Z>), ((369, 7), <S>)] len of 3\n",
            "FRONTIER SNAPSHOT: [((304, 6), <Z>), ((369, 7), <S>), ((411, 8), <R>), ((403, 9), <P>)] len of 4\n",
            "FRONTIER SNAPSHOT: [((369, 7), <S>), ((375, 10), <O>), ((411, 8), <R>), ((403, 9), <P>)] len of 4\n",
            "FRONTIER SNAPSHOT: [((375, 10), <O>), ((403, 9), <P>), ((411, 8), <R>), ((468, 11), <F>)] len of 4\n",
            "FRONTIER SNAPSHOT: [((403, 9), <P>), ((468, 11), <F>), ((411, 8), <R>)] len of 3\n",
            "FRONTIER SNAPSHOT: [((411, 8), <R>), ((468, 11), <F>), ((504, 12), <B>)] len of 3\n",
            "FRONTIER SNAPSHOT: [((468, 11), <F>), ((504, 12), <B>)] len of 2\n",
            "UniformSearch PATH : ['L', 'T', 'A', 'S', 'F'] \n",
            "PATH COST: 468 \n",
            "FRONTIER LENGTHS: [1, 2, 2, 2, 2, 3, 4, 4, 4, 3, 3, 2]\n"
          ]
        }
      ]
    },
    {
      "cell_type": "code",
      "source": [
        "#3. Print the path, path cost, and frontier lengths for **AStarSearch** on route_l_f_new problem.\n",
        "as_search_result, reached, frontiers = astar_search(route_l_f_new)\n",
        "print(f\"A* PATH : {path_states(as_search_result)} \\nPATH COST: {as_search_result.path_cost} \\nFRONTIER LENGTHS: {frontier_lengths(frontiers)}\")\n",
        "#"
      ],
      "metadata": {
        "colab": {
          "base_uri": "https://localhost:8080/"
        },
        "id": "4Lk_WzCNSxzr",
        "outputId": "9cf110ee-9ee4-447a-ecd1-a570c19afd11"
      },
      "execution_count": 50,
      "outputs": [
        {
          "output_type": "stream",
          "name": "stdout",
          "text": [
            "FRONTIER SNAPSHOT: [((147.27525250360293, 0), <L>)] len of 1\n",
            "FRONTIER SNAPSHOT: [((241.21331723905124, 2), <M>), ((318.17142660125694, 1), <T>)] len of 2\n",
            "FRONTIER SNAPSHOT: [((318.17142660125694, 1), <T>), ((351.20620747203515, 3), <D>)] len of 2\n",
            "FRONTIER SNAPSHOT: [((351.20620747203515, 3), <D>), ((441.24985276791125, 4), <A>)] len of 2\n",
            "FRONTIER SNAPSHOT: [((441.24985276791125, 4), <A>), ((444.2930561957155, 5), <C>)] len of 2\n",
            "FRONTIER SNAPSHOT: [((444.2930561957155, 5), <C>), ((512.5425616031414, 6), <Z>), ((467.0459076147495, 7), <S>)] len of 3\n",
            "FRONTIER SNAPSHOT: [((467.0459076147495, 7), <S>), ((494.7605579756357, 9), <P>), ((486.28612089887486, 8), <R>), ((512.5425616031414, 6), <Z>)] len of 4\n",
            "FRONTIER SNAPSHOT: [((468.0, 11), <F>), ((486.28612089887486, 8), <R>), ((512.5425616031414, 6), <Z>), ((726.455806409023, 10), <O>), ((494.7605579756357, 9), <P>)] len of 5\n",
            "A* PATH : ['L', 'T', 'A', 'S', 'F'] \n",
            "PATH COST: 468 \n",
            "FRONTIER LENGTHS: [1, 2, 2, 2, 2, 3, 4, 5]\n"
          ]
        }
      ]
    },
    {
      "cell_type": "code",
      "source": [
        "#4. Use the new static_weighted_astar_search algorithm on route_l_f_new with $\\omega=1.0$.\n",
        "#   Print the path, path cost, and frontier lengths for **static_weighted_astar_search** on route_l_f_new problem.\n",
        "swas_search_result, swas_reached, swas_frontiers = static_weighted_astar_search(route_l_f_new, 1.0)\n",
        "print(f\"WEIGHTED A* PATH : {path_states(swas_search_result)} \\nPATH COST: {swas_search_result.path_cost} \\nFRONTIER LENGTHS: {frontier_lengths(swas_frontiers)}\")\n"
      ],
      "metadata": {
        "colab": {
          "base_uri": "https://localhost:8080/"
        },
        "id": "IizirQUrSy_Q",
        "outputId": "f7502e85-9fab-4f9c-8d19-18e27f06a913"
      },
      "execution_count": 51,
      "outputs": [
        {
          "output_type": "stream",
          "name": "stdout",
          "text": [
            "FRONTIER SNAPSHOT: [((147.27525250360293, 0), <L>)] len of 1\n",
            "FRONTIER SNAPSHOT: [((241.21331723905124, 2), <M>), ((318.17142660125694, 1), <T>)] len of 2\n",
            "FRONTIER SNAPSHOT: [((318.17142660125694, 1), <T>), ((351.20620747203515, 3), <D>)] len of 2\n",
            "FRONTIER SNAPSHOT: [((351.20620747203515, 3), <D>), ((441.24985276791125, 4), <A>)] len of 2\n",
            "FRONTIER SNAPSHOT: [((441.24985276791125, 4), <A>), ((444.2930561957155, 5), <C>)] len of 2\n",
            "FRONTIER SNAPSHOT: [((444.2930561957155, 5), <C>), ((512.5425616031414, 6), <Z>), ((467.0459076147495, 7), <S>)] len of 3\n",
            "FRONTIER SNAPSHOT: [((467.0459076147495, 7), <S>), ((494.7605579756357, 9), <P>), ((486.28612089887486, 8), <R>), ((512.5425616031414, 6), <Z>)] len of 4\n",
            "FRONTIER SNAPSHOT: [((468.0, 11), <F>), ((486.28612089887486, 8), <R>), ((512.5425616031414, 6), <Z>), ((726.455806409023, 10), <O>), ((494.7605579756357, 9), <P>)] len of 5\n",
            "WEIGHTED A* PATH : ['L', 'T', 'A', 'S', 'F'] \n",
            "PATH COST: 468 \n",
            "FRONTIER LENGTHS: [1, 2, 2, 2, 2, 3, 4, 5]\n"
          ]
        }
      ]
    },
    {
      "cell_type": "code",
      "source": [
        "#5. Use the new static_weighted_astar_search algorithm on route_l_f_new with $\\omega=10.0$.\n",
        "#   Print the path, path cost, and frontier lengths for **static_weighted_astar_search** on route_l_f_new problem.\n",
        "swas_search_result, swas_reached, swas_frontiers = static_weighted_astar_search(route_l_f_new, 10.0)\n",
        "print(f\"WEIGHTED A* PATH : {path_states(swas_search_result)} \\nPATH COST: {swas_search_result.path_cost} \\nFRONTIER LENGTHS: {frontier_lengths(swas_frontiers)}\")\n"
      ],
      "metadata": {
        "colab": {
          "base_uri": "https://localhost:8080/"
        },
        "id": "WAHU2vctS0FO",
        "outputId": "3e265e81-0c20-41c3-9f1b-e3410dc33f07"
      },
      "execution_count": 52,
      "outputs": [
        {
          "output_type": "stream",
          "name": "stdout",
          "text": [
            "FRONTIER SNAPSHOT: [((1472.7525250360293, 0), <L>)] len of 1\n",
            "FRONTIER SNAPSHOT: [((1782.1331723905123, 2), <M>), ((2182.7142660125696, 1), <T>)] len of 2\n",
            "FRONTIER SNAPSHOT: [((2182.7142660125696, 1), <T>), ((2207.0620747203516, 3), <D>)] len of 2\n",
            "FRONTIER SNAPSHOT: [((2207.0620747203516, 3), <D>), ((2351.4985276791126, 4), <A>)] len of 2\n",
            "FRONTIER SNAPSHOT: [((2057.930561957155, 5), <C>), ((2351.4985276791126, 4), <A>)] len of 2\n",
            "FRONTIER SNAPSHOT: [((1163.8612089887483, 6), <R>), ((2351.4985276791126, 4), <A>), ((1320.605579756357, 7), <P>)] len of 3\n",
            "FRONTIER SNAPSHOT: [((1320.605579756357, 7), <P>), ((2351.4985276791126, 4), <A>), ((1471.4590761474951, 8), <S>)] len of 3\n",
            "FRONTIER SNAPSHOT: [((1471.4590761474951, 8), <S>), ((2351.4985276791126, 4), <A>), ((2262.2377541163196, 9), <B>)] len of 3\n",
            "FRONTIER SNAPSHOT: [((590.0, 11), <F>), ((2262.2377541163196, 9), <B>), ((2706.5580640902303, 10), <O>), ((2351.4985276791126, 4), <A>)] len of 4\n",
            "WEIGHTED A* PATH : ['L', 'M', 'D', 'C', 'R', 'S', 'F'] \n",
            "PATH COST: 590 \n",
            "FRONTIER LENGTHS: [1, 2, 2, 2, 2, 3, 3, 3, 4]\n"
          ]
        }
      ]
    },
    {
      "cell_type": "code",
      "source": [
        "#6. Use the new static_weighted_astar_search algorithm on route_l_f_new with $\\omega=100.0$.\n",
        "#   Print the path, path cost, and frontier lengths for **static_weighted_astar_search** on route_l_f_new problem.\n",
        "swas_search_result, swas_reached, swas_frontiers = static_weighted_astar_search(route_l_f_new, 100.0)\n",
        "print(f\"WEIGHTED A* PATH : {path_states(swas_search_result)} \\nPATH COST: {swas_search_result.path_cost} \\nFRONTIER LENGTHS: {frontier_lengths(swas_frontiers)}\")\n"
      ],
      "metadata": {
        "colab": {
          "base_uri": "https://localhost:8080/"
        },
        "id": "SF23aBtAS1KI",
        "outputId": "408d85ec-3f35-48c2-a47c-282ea2ee8d08"
      },
      "execution_count": 53,
      "outputs": [
        {
          "output_type": "stream",
          "name": "stdout",
          "text": [
            "FRONTIER SNAPSHOT: [((14727.525250360293, 0), <L>)] len of 1\n",
            "FRONTIER SNAPSHOT: [((17191.331723905125, 2), <M>), ((20828.142660125697, 1), <T>)] len of 2\n",
            "FRONTIER SNAPSHOT: [((20765.620747203513, 3), <D>), ((20828.142660125697, 1), <T>)] len of 2\n",
            "FRONTIER SNAPSHOT: [((18194.30561957155, 4), <C>), ((20828.142660125697, 1), <T>)] len of 2\n",
            "FRONTIER SNAPSHOT: [((7939.612089887484, 5), <R>), ((20828.142660125697, 1), <T>), ((9579.05579756357, 6), <P>)] len of 3\n",
            "FRONTIER SNAPSHOT: [((9579.05579756357, 6), <P>), ((20828.142660125697, 1), <T>), ((10295.590761474952, 7), <S>)] len of 3\n",
            "FRONTIER SNAPSHOT: [((10295.590761474952, 7), <S>), ((20828.142660125697, 1), <T>), ((18086.377541163198, 8), <B>)] len of 3\n",
            "FRONTIER SNAPSHOT: [((590.0, 11), <F>), ((18086.377541163198, 8), <B>), ((21287.580640902303, 9), <O>), ((21855.985276791125, 10), <A>), ((20828.142660125697, 1), <T>)] len of 5\n",
            "WEIGHTED A* PATH : ['L', 'M', 'D', 'C', 'R', 'S', 'F'] \n",
            "PATH COST: 590 \n",
            "FRONTIER LENGTHS: [1, 2, 2, 2, 3, 3, 3, 5]\n"
          ]
        }
      ]
    },
    {
      "cell_type": "code",
      "execution_count": 54,
      "metadata": {
        "id": "kcUNO3qv2cd5"
      },
      "outputs": [],
      "source": [
        "# Q3  Part 1 ANSWER GOES HERE\n"
      ]
    },
    {
      "cell_type": "code",
      "execution_count": 29,
      "metadata": {
        "id": "bdtuws4q2cd5"
      },
      "outputs": [],
      "source": [
        "# Q3  Part 2-6 ANSWER GOES HERE\n"
      ]
    },
    {
      "cell_type": "markdown",
      "metadata": {
        "id": "h-nLYAmQ2cd5"
      },
      "source": [
        "# QUESTION 4 Search (Expected) - 5 points\n",
        "\n",
        "1. Create a new class of search problems called **GridProblemMod** by copying and renaming the **GridProblem** class below appropriately.\n",
        "2. For **GridProblemMod** extend the directions the agent can move to so that diagonal movement is allowed i.e. up-left/up/up-right/left/right/down-left/down/down-right movement using that order.\n",
        "3. Unlike the original **GridProblem**, in this case, the grid will be finite and square. Add a parameter to the __init__ method called size that determines the size $N$ of the land grid which is a $N$ by $N$ square. Note this impacts a particular function you now need to modify for this to gracefully stay inside the square."
      ]
    },
    {
      "cell_type": "code",
      "execution_count": 30,
      "metadata": {
        "id": "LP5QruH52cd5"
      },
      "outputs": [],
      "source": [
        "def straight_line_distance(A, B):\n",
        "    \"Straight-line distance between two points.\"\n",
        "    return sum(abs(a - b)**2 for (a, b) in zip(A, B)) ** 0.5\n",
        "\n",
        "def transpose(matrix): return list(zip(*matrix))\n",
        "\n",
        "\n",
        "### Starting point for GridProblemMod\n",
        "class GridProblem(Problem):\n",
        "    \"\"\"Finding a path on a 2D grid with obstacles. Obstacles are (x, y) cells.\"\"\"\n",
        "\n",
        "    def __init__(self, initial=(15, 30), goal=(130, 30), obstacles=(), **kwds):\n",
        "        Problem.__init__(self, initial=initial, goal=goal,\n",
        "                         obstacles=set(obstacles) - {initial, goal}, **kwds)\n",
        "\n",
        "    directions = [(-1, 0), (0, 1), (1,  0), (0,-1)]\n",
        "\n",
        "    def action_cost(self, s, action, s1): return straight_line_distance(s, s1)\n",
        "\n",
        "    def h(self, node): return straight_line_distance(node.state, self.goal)\n",
        "\n",
        "    def result(self, state, action):\n",
        "        \"Both states and actions are represented by (x, y) pairs.\"\n",
        "        return action if action not in self.obstacles else state\n",
        "\n",
        "    def actions(self, state):\n",
        "        \"\"\"You can move one cell in any of `directions` to a non-obstacle cell.\"\"\"\n",
        "        x, y = state\n",
        "        return {(x + dx, y + dy) for (dx, dy) in self.directions} - self.obstacles\n",
        "\n",
        "\n",
        "### Simple Grid problem plotting\n",
        "def plot_simple_grid_problem(grid, solution, reached=(), title='Search', show=True):\n",
        "    \"Use matplotlib to plot the grid, obstacles, solution, and reached.\"\n",
        "    grid_board = []\n",
        "    for i in range(0,grid.size):\n",
        "        for j in range(0,grid.size):\n",
        "            grid_board.append((i,j))\n",
        "\n",
        "    nlocations =  grid.size\n",
        "\n",
        "    plt.figure(figsize=(5, 5))\n",
        "    plt.axis('on');\n",
        "    plt.xlim((-0.5,nlocations-0.5))\n",
        "    plt.ylim((-0.5,nlocations-0.5))\n",
        "    plt.scatter(*transpose(grid_board), (250 / nlocations) **2, marker='s', c='lightgrey')\n",
        "    if (grid.obstacles):\n",
        "        plt.scatter(*transpose(grid.obstacles), (250 / nlocations) **2, marker='s', c='black')\n",
        "    plt.scatter(*transpose(reached), (50/nlocations)**2, marker='o', c='blue')\n",
        "    plt.scatter(*transpose(path_states(solution)), (100 / nlocations) **2,marker='s', c='red')\n",
        "    plt.scatter(*transpose([grid.initial]), (50/nlocations)**2, marker='D', c='white')\n",
        "    plt.scatter(*transpose([grid.goal]), (125/nlocations)**2, marker='*', c='white')\n",
        "    if show: plt.show()\n",
        "    print('{} {} search: {:.1f} path cost, {:,d} states reached'\n",
        "          .format(' ' * 10, title, solution.path_cost, len(reached)))"
      ]
    },
    {
      "cell_type": "code",
      "source": [
        "class GridProblemMod(GridProblem):\n",
        "    \"\"\"Finding a path on a 2D grid with obstacles. Obstacles are (x, y) cells.\"\"\"\n",
        "    ### Starting point for GridProblemMod\n",
        "\n",
        "    def __init__(self, initial=(15, 30), goal=(130, 30), obstacles=(),size=400, **kwds):\n",
        "        Problem.__init__(self, initial=initial, goal=goal,\n",
        "                         obstacles=set(obstacles) - {initial, goal},size=size, **kwds)\n",
        "\n",
        "    directions = [(-1, 0), (0, 1), (1,  0), (0,-1), (-1,-1), (-1,1), (1,1), (1,-1)]\n",
        "\n",
        "    def action_cost(self, s, action, s1): return straight_line_distance(s, s1)\n",
        "\n",
        "    def h(self, node): return straight_line_distance(node.state, self.goal)\n",
        "\n",
        "    def result(self, state, action):\n",
        "        \"Both states and actions are represented by (x, y) pairs.\"\n",
        "        return action if action not in self.obstacles else state\n",
        "\n",
        "    def actions(self, state):\n",
        "        \"\"\"You can move one cell in any of `directions` to a non-obstacle cell.\"\"\"\n",
        "        x, y = state\n",
        "        if(x > self.size):\n",
        "          x = self.size-x\n",
        "        elif(y > self.size):\n",
        "          y = self.size-y\n",
        "        elif(x < 0):\n",
        "          x = -x\n",
        "        elif(y < 0):\n",
        "          y = -y\n",
        "        return {(x + dx, y + dy) for (dx, dy) in self.directions} - self.obstacles"
      ],
      "metadata": {
        "id": "7M108HvzbwIT"
      },
      "execution_count": null,
      "outputs": []
    },
    {
      "cell_type": "code",
      "execution_count": 31,
      "metadata": {
        "id": "e0Qo1SJa2cd5",
        "outputId": "b2cc0e71-5f55-4866-84d8-6c5ddf359c54",
        "colab": {
          "base_uri": "https://localhost:8080/",
          "height": 228
        }
      },
      "outputs": [
        {
          "output_type": "error",
          "ename": "NameError",
          "evalue": "name 'GridProblemMod' is not defined",
          "traceback": [
            "\u001b[0;31m---------------------------------------------------------------------------\u001b[0m",
            "\u001b[0;31mNameError\u001b[0m                                 Traceback (most recent call last)",
            "\u001b[0;32m/tmp/ipython-input-4122922174.py\u001b[0m in \u001b[0;36m<cell line: 0>\u001b[0;34m()\u001b[0m\n\u001b[1;32m      9\u001b[0m \u001b[0;34m\u001b[0m\u001b[0m\n\u001b[1;32m     10\u001b[0m \u001b[0;31m# This code will not work until you implement all Parts above\u001b[0m\u001b[0;34m\u001b[0m\u001b[0;34m\u001b[0m\u001b[0m\n\u001b[0;32m---> 11\u001b[0;31m \u001b[0mgmod1\u001b[0m \u001b[0;34m=\u001b[0m \u001b[0mGridProblemMod\u001b[0m\u001b[0;34m(\u001b[0m\u001b[0minitial\u001b[0m \u001b[0;34m=\u001b[0m \u001b[0;34m(\u001b[0m\u001b[0;36m2\u001b[0m\u001b[0;34m,\u001b[0m\u001b[0;36m2\u001b[0m\u001b[0;34m)\u001b[0m\u001b[0;34m,\u001b[0m \u001b[0mgoal\u001b[0m \u001b[0;34m=\u001b[0m \u001b[0;34m(\u001b[0m\u001b[0;36m7\u001b[0m\u001b[0;34m,\u001b[0m\u001b[0;36m6\u001b[0m\u001b[0;34m)\u001b[0m\u001b[0;34m,\u001b[0m \u001b[0msize\u001b[0m\u001b[0;34m=\u001b[0m\u001b[0;36m10\u001b[0m\u001b[0;34m,\u001b[0m \u001b[0mobstacles\u001b[0m \u001b[0;34m=\u001b[0m \u001b[0;34m[\u001b[0m\u001b[0;34m(\u001b[0m\u001b[0;36m4\u001b[0m\u001b[0;34m,\u001b[0m\u001b[0;36m4\u001b[0m\u001b[0;34m)\u001b[0m\u001b[0;34m,\u001b[0m\u001b[0;34m(\u001b[0m\u001b[0;36m5\u001b[0m\u001b[0;34m,\u001b[0m\u001b[0;36m4\u001b[0m\u001b[0;34m)\u001b[0m\u001b[0;34m,\u001b[0m\u001b[0;34m(\u001b[0m\u001b[0;36m6\u001b[0m\u001b[0;34m,\u001b[0m\u001b[0;36m4\u001b[0m\u001b[0;34m)\u001b[0m\u001b[0;34m,\u001b[0m\u001b[0;34m(\u001b[0m\u001b[0;36m4\u001b[0m\u001b[0;34m,\u001b[0m\u001b[0;36m5\u001b[0m\u001b[0;34m)\u001b[0m\u001b[0;34m,\u001b[0m\u001b[0;34m(\u001b[0m\u001b[0;36m4\u001b[0m\u001b[0;34m,\u001b[0m\u001b[0;36m6\u001b[0m\u001b[0;34m)\u001b[0m\u001b[0;34m,\u001b[0m\u001b[0;34m(\u001b[0m\u001b[0;36m4\u001b[0m\u001b[0;34m,\u001b[0m\u001b[0;36m7\u001b[0m\u001b[0;34m)\u001b[0m\u001b[0;34m,\u001b[0m\u001b[0;34m(\u001b[0m\u001b[0;36m3\u001b[0m\u001b[0;34m,\u001b[0m\u001b[0;36m7\u001b[0m\u001b[0;34m)\u001b[0m\u001b[0;34m,\u001b[0m\u001b[0;34m(\u001b[0m\u001b[0;36m2\u001b[0m\u001b[0;34m,\u001b[0m\u001b[0;36m7\u001b[0m\u001b[0;34m)\u001b[0m\u001b[0;34m]\u001b[0m\u001b[0;34m)\u001b[0m\u001b[0;34m\u001b[0m\u001b[0;34m\u001b[0m\u001b[0m\n\u001b[0m\u001b[1;32m     12\u001b[0m \u001b[0;34m\u001b[0m\u001b[0m\n\u001b[1;32m     13\u001b[0m \u001b[0;34m(\u001b[0m\u001b[0mbfs_g1\u001b[0m\u001b[0;34m,\u001b[0m \u001b[0mbfsreached1\u001b[0m\u001b[0;34m,\u001b[0m \u001b[0mbfsfrontiers1\u001b[0m\u001b[0;34m)\u001b[0m \u001b[0;34m=\u001b[0m \u001b[0mbreadth_first_bfs\u001b[0m\u001b[0;34m(\u001b[0m\u001b[0mgmod1\u001b[0m\u001b[0;34m)\u001b[0m\u001b[0;34m\u001b[0m\u001b[0;34m\u001b[0m\u001b[0m\n",
            "\u001b[0;31mNameError\u001b[0m: name 'GridProblemMod' is not defined"
          ]
        }
      ],
      "source": [
        "# question 4 ANSWER GOES HERE\n",
        "# add your GridProblemMod class\n",
        "# and then check that the code provided works\n",
        "# and produces the desired output\n",
        "# you can add some check of your own to\n",
        "# see how things work\n",
        "\n",
        "\n",
        "\n",
        "# This code will not work until you implement all Parts above\n",
        "gmod1 = GridProblemMod(initial = (2,2), goal = (7,6), size=10, obstacles = [(4,4),(5,4),(6,4),(4,5),(4,6),(4,7),(3,7),(2,7)])\n",
        "\n",
        "(bfs_g1, bfsreached1, bfsfrontiers1) = breadth_first_bfs(gmod1)\n",
        "plot_simple_grid_problem(gmod1, bfs_g1, bfsreached1, title='G1 BFS', show=True)\n",
        "\n",
        "(astar_g1, reached1b, frontiers1b) = astar_search(gmod1)\n",
        "plot_simple_grid_problem(gmod1, astar_g1, reached1b, title='G1 A*', show=True)\n",
        "\n",
        "(stastar_g1, stareached1b, stafrontiers1b) = static_weighted_astar_search(gmod1, 100.0)\n",
        "plot_simple_grid_problem(gmod1, stastar_g1, stareached1b, title='G1 Static Wieghted A*', show=True)\n",
        "\n",
        "\n",
        "gmod2 = GridProblemMod(initial = (0,9), goal = (9,0), size=10, obstacles = [(4,4),(5,4),(6,4),(4,5),(4,6),(4,7),(3,7),(2,7),(4,3),(3,3),(2,3)])\n",
        "\n",
        "(bfs_g2, bfsreached2, bfsfrontiers2) = breadth_first_bfs(gmod2)\n",
        "plot_simple_grid_problem(gmod2, bfs_g2, bfsreached2, title='G1 BFS', show=True)\n",
        "\n",
        "(astar_g2, astarreached2b, frontiers2b) = astar_search(gmod2)\n",
        "plot_simple_grid_problem(gmod2, astar_g2, astarreached2b, title='G1 A*', show=True)\n",
        "\n",
        "(stastar_g2, stareached2b, stafrontiers2b) = static_weighted_astar_search(gmod2, 100.0)\n",
        "plot_simple_grid_problem(gmod2, stastar_g2, stareached2b, title='G1 Static Wieghted A*', show=True)"
      ]
    },
    {
      "cell_type": "markdown",
      "metadata": {
        "editable": true,
        "tags": [],
        "id": "gejHL9Bd2cd5"
      },
      "source": [
        "# QUESTION 5 Search (Expected) - 4 points\n",
        "\n",
        "1. Create a new class of search problems called **LandgridProblem** by copying and renaming the **GridProblemMod** class you completed in the previous question.\n",
        "2. Each location on the LandGrid has an associated number representing the \"cost\" of going through that location. Grass corresponds to 1, hills correspond to 2, and mountains correspond to 3. This is similar to tile-based board games such as Settlers of Catan or computer games such as Civilization.\n",
        "3. You will need to modify the action_cost method to take into account the land cost. So if a path contains two grass squares, three hills, and one mountain the total path cost will be $2 * 1 + 3 * 2 + 1 * 3 = 11$.\n",
        "4. Add a **Manhattan distance** heuristic to your implementation. The **Manhattan distance** between two points $(x_1, y_1)$ and $(x_2, y_2)$ is defined as $|x_2 - x_1| + |y_2 - y_1|$. The choice of heuristic should be specified by an argument to the LandGridProblem, how this is done can be seen in the init function provided below. See the tests below where we use A* and greedy to trigger the use of the heuristics!\n",
        "\n",
        "For example:\n",
        "```\n",
        "d4_h1 = LandgridProblem(initial = (2,2), goal=(7,6), land_grid = land_grid4, heuristic='straight')\n",
        "d4_h2 = LandgridProblem(initial = (2,2), goal=(7,6), land_grid = land_grid4, heuristic='manhattan')\n",
        "```\n",
        "\n",
        "Some code for creating, printing, and plotting land grids is provided below.\n",
        "\n",
        "**IMPORTANT:**\n",
        "Here is the __init__ function you will need to use.\n",
        "\n",
        "```\n",
        "def __init__(self, initial=(2, 2), goal=(4, 4), land_grid=[],heuristic=\"straight\",**kwds):\n",
        "        size = len(land_grid)\n",
        "        self.size = size\n",
        "        self.heuristic = heuristic\n",
        "        Problem.__init__(self, initial=initial, goal=goal, land_grid = land_grid, size = size, heuristic=heuristic, **kwds)\n",
        "```"
      ]
    },
    {
      "cell_type": "code",
      "execution_count": null,
      "metadata": {
        "editable": true,
        "tags": [],
        "id": "G7dMQLvk2cd5"
      },
      "outputs": [],
      "source": [
        "land_grid1 = [[1,1,2,3,3],[1,2,1,3,1],[1,1,3,1,1],[2,2,2,3,3],[3,1,1,1,1]]\n",
        "land_grid2 = [[1,1,1,1,1],[1,1,1,1,1],[1,1,1,1,1],[1,1,1,1,1],[1,1,1,1,1]]\n",
        "\n",
        "def create_random_land_grid(n):\n",
        "    matrix = []\n",
        "    random.seed(30)\n",
        "    for i in range(0,n):\n",
        "        row = []\n",
        "        for i in range(0,n):\n",
        "            row.append(random.randint(1, 3))\n",
        "        matrix.append(row)\n",
        "    return matrix\n",
        "\n",
        "land_grid4 = create_random_land_grid(15)\n"
      ]
    },
    {
      "cell_type": "code",
      "execution_count": null,
      "metadata": {
        "editable": true,
        "tags": [],
        "id": "bCnFsR9v2cd6"
      },
      "outputs": [],
      "source": [
        "# QUESTION 5 ANSWER GOES HERE\n",
        "\n"
      ]
    },
    {
      "cell_type": "code",
      "execution_count": null,
      "metadata": {
        "editable": true,
        "tags": [],
        "id": "8jzEnXEY2cd6"
      },
      "outputs": [],
      "source": [
        "def plot_grid_problem(grid, solution, reached=(), title='Search', show=True):\n",
        "    \"Use matplotlib to plot the grid, obstacles, solution, and reached.\"\n",
        "    grass_points = []\n",
        "    hill_points = []\n",
        "    mountain_points = []\n",
        "    for i in range(0,grid.size):\n",
        "        for j in range(0,grid.size):\n",
        "            if (grid.land_grid[i][j] == 1):\n",
        "                grass_points.append((i,j))\n",
        "            elif (grid.land_grid[i][j] == 2):\n",
        "                hill_points.append((i,j))\n",
        "            elif (grid.land_grid[i][j] == 3):\n",
        "                mountain_points.append((i,j))\n",
        "\n",
        "    nlocations =  grid.size\n",
        "    plt.figure(figsize=(5, 5))\n",
        "    plt.axis('on');\n",
        "    plt.xlim((-0.5,nlocations-0.5))\n",
        "    plt.ylim((-0.5,nlocations-0.5))\n",
        "    if (grass_points):\n",
        "        plt.scatter(*transpose(grass_points), (250 / nlocations) **2, marker='s', c='green')\n",
        "    if (hill_points):\n",
        "        plt.scatter(*transpose(hill_points), (250 / nlocations) **2, marker='s', c='yellow')\n",
        "    if (mountain_points):\n",
        "        plt.scatter(*transpose(mountain_points), (250 / nlocations) **2, marker='s', c='black')\n",
        "    plt.scatter(*transpose(reached), (50/nlocations)**2, marker='o', c='blue')\n",
        "    plt.scatter(*transpose(path_states(solution)), (100 / nlocations) **2,marker='s', c='red')\n",
        "    plt.scatter(*transpose([grid.initial]), (50/nlocations)**2, marker='D', c='white')\n",
        "    plt.scatter(*transpose([grid.goal]), (125/nlocations)**2, marker='*', c='lightgreen')\n",
        "    if show: plt.show()\n",
        "    print('{} {} search: {:.1f} path cost, {:,d} states reached'\n",
        "          .format(' ' * 10, title, solution.path_cost, len(reached)))"
      ]
    },
    {
      "cell_type": "code",
      "execution_count": null,
      "metadata": {
        "editable": true,
        "tags": [],
        "id": "Vc4C4I8G2cd6"
      },
      "outputs": [],
      "source": [
        "# This code will not work until you have implemented appropriately the LandgridProblem class\n",
        "# These tests must pass!\n",
        "\n",
        "#Landgrid 1 examples (5x5)\n",
        "d1 = LandgridProblem(initial = (3,1), goal=(1,4), land_grid = land_grid1, heuristic='straight')\n",
        "\n",
        "(bfs_d1, reached, frontiers) = breadth_first_bfs(d1)\n",
        "plot_grid_problem(d1, bfs_d1, reached, title='D1 BFS', show=True)\n",
        "\n",
        "(ucs_d1, reached, frontiers) = uniform_cost_search(d1)\n",
        "plot_grid_problem(d1, ucs_d1, reached, title='D1 UCF', show=True)\n",
        "\n",
        "(as_d1, reached, frontiers) = astar_search(d1)\n",
        "plot_grid_problem(d1, as_d1, reached, title='D1 A* search', show=True)\n",
        "\n",
        "(grs_d1, reached, frontiers) = greedy_bfs(d1)\n",
        "plot_grid_problem(d1, grs_d1, reached, title='D1 Greedy', show=True)\n",
        "\n",
        "#Landgrid 4 examples (10x10, random)\n",
        "d4 = LandgridProblem(initial = (0,3), goal=(12,13), land_grid = land_grid4, heuristic='straight')\n",
        "\n",
        "(bfs_d4, reached, frontiers) = breadth_first_bfs(d4)\n",
        "plot_grid_problem(d4, bfs_d4, reached, title='D4 BFS', show=True)\n",
        "\n",
        "(ucs_d4, reached, frontiers) = uniform_cost_search(d4)\n",
        "plot_grid_problem(d4, ucs_d4, reached, title='D4 UCF', show=True)\n",
        "\n",
        "(as_d4, reached, frontiers) = astar_search(d4)\n",
        "plot_grid_problem(d4, as_d4, reached, title='D4 A*', show=True)\n",
        "\n",
        "(grs_d4, reached, frontiers) = greedy_bfs(d4)\n",
        "plot_grid_problem(d4, grs_d4, reached, title='D4 Greedy', show=True)\n",
        "\n",
        "\n",
        "# Heuristic switch examples\n",
        "d4_h1 = LandgridProblem(initial = (0,3), goal=(12,13), land_grid = land_grid4, heuristic='straight')\n",
        "(bfs_d4_h1, reached, frontiers) = astar_search(d4_h1)\n",
        "plot_grid_problem(d4_h1, bfs_d4_h1, reached, title='D4 A* Straight', show=True)\n",
        "\n",
        "d4_h2 = LandgridProblem(initial = (0,3), goal=(12,13), land_grid = land_grid4, heuristic='manhattan')\n",
        "(bfs_d4_h2, reached, frontiers) = astar_search(d4_h2)\n",
        "plot_grid_problem(d4_h2, bfs_d4_h2, reached, title='D4 A* Manhattan', show=True)"
      ]
    },
    {
      "cell_type": "markdown",
      "metadata": {
        "editable": true,
        "tags": [],
        "id": "-Wl9Sbgi2cd6"
      },
      "source": [
        "# QUESTION 6 CSP (Expected) - 4 points\n",
        "\n",
        "Let's look at a simple basic implementation of recursive backtracking search for solving CSP problems."
      ]
    },
    {
      "cell_type": "code",
      "execution_count": null,
      "metadata": {
        "id": "11nIcVIV2cd6"
      },
      "outputs": [],
      "source": [
        "def isComplete(assignment):\n",
        "    return None not in (assignment.values())\n",
        "\n",
        "def select_unassigned_variable(variables, assignment):\n",
        "    for var in variables:\n",
        "        if assignment[var] is None:\n",
        "            return var\n",
        "\n",
        "def is_consistent(assignment, constraints):\n",
        "    for constraint_violated in constraints:\n",
        "        if constraint_violated(assignment):\n",
        "          return False\n",
        "    return True\n",
        "\n",
        "def init_assignment(csp):\n",
        "    assignment = {}\n",
        "    for var in csp[\"VARIABLES\"]:\n",
        "        assignment[var] = None\n",
        "    return assignment\n",
        "\n",
        "def add_constraint(csp, constraint):\n",
        "    csp['CONSTRAINTS'].append(constraint)\n",
        "\n",
        "def recursive_backtracking(assignment, csp):\n",
        "    if isComplete(assignment):\n",
        "        return assignment\n",
        "    var = select_unassigned_variable(csp[\"VARIABLES\"], assignment)\n",
        "    for value in csp[\"DOMAINS\"]:\n",
        "        assignment[var] = value\n",
        "        if is_consistent(assignment, csp[\"CONSTRAINTS\"]):\n",
        "            result = recursive_backtracking(assignment, csp)\n",
        "            if result != \"FAILURE\":\n",
        "                return result\n",
        "        assignment[var] = None\n",
        "    return \"FAILURE\"\n",
        "\n",
        "\n",
        "def binary_constraint(var_pair, violations):\n",
        "    (v1,v2) = var_pair\n",
        "    return lambda asmt: (asmt[v1], asmt[v2]) in violations\n"
      ]
    },
    {
      "cell_type": "markdown",
      "metadata": {
        "id": "-B8xius-2cd6"
      },
      "source": [
        "We can use this implementation to solve the Australia map colouring problem. Before working on this question make sure you understand how the code works. *Looking at how csp_australia is defined and how binary constraints are defined as violations below can be useful in tracing how the code above works using this information.*\n",
        "\n",
        "1. Add a unary constraint function. Similarly to binary constraint, it should return a function that takes as input an assignment and returns true if the assignment violates the constraint.\n",
        "2. Show how this new unary constraint can be used to enforce that WA is blue\n",
        "3. Now in addition to (2), use this new unary constraint to enforce that T is blue in the resulting solution.\n",
        "4. Now in addition to (3), use this new unary constraint to enforce that NT is also blue in the resulting solution. See below for expected output."
      ]
    },
    {
      "cell_type": "code",
      "execution_count": null,
      "metadata": {
        "id": "OjslyIiF2cd6"
      },
      "outputs": [],
      "source": [
        "csp_australia = {\"VARIABLES\": [\"WA\", \"NT\", \"Q\", \"NSW\", \"V\", \"SA\", \"T\"],\n",
        "        \"DOMAINS\": [\"red\", \"green\", \"blue\"],\n",
        "        \"CONSTRAINTS\": []}\n",
        "\n",
        "violations = {('red','red'), ('green','green'), ('blue','blue')}\n",
        "\n",
        "for (v1,v2) in [('WA', 'NT'), ('WA', 'SA'),\n",
        "                ('NT', 'SA'), ('NT', 'Q'),\n",
        "                ('SA', 'Q'), ('SA', 'NSW'),\n",
        "                ('SA', 'V'),('Q', 'NSW'),\n",
        "                ('V', 'T')]:\n",
        "    add_constraint(csp_australia, binary_constraint((v1,v2), violations))\n"
      ]
    },
    {
      "cell_type": "code",
      "execution_count": null,
      "metadata": {
        "id": "1w-CpR7T2cd7"
      },
      "outputs": [],
      "source": [
        "# Q6 ANSWER GOES HERE\n",
        "# HINTS:\n",
        "# 0) define a unary constraint, see binary constrain above\n",
        "# Repeat\n",
        "# 1) add constraint to CSP\n",
        "# 2) recursive backtracking on an initial assignment\n",
        "# 3) print\n",
        "\n",
        "\n",
        "# Expected output\n",
        "# NOTE here the solution should have WA as blue\n",
        "# Result {'WA': 'blue', 'NT': 'red', 'Q': 'blue', 'NSW': 'red', 'V': 'red', 'SA': 'green', 'T': 'green'}\n",
        "# NOTE here the solution should have WA as blue and T as blue\n",
        "# Result {'WA': 'blue', 'NT': 'red', 'Q': 'blue', 'NSW': 'red', 'V': 'red', 'SA': 'green', 'T': 'blue'}\n",
        "# NOTE this is impossible, so failure!\n",
        "# Result FAILURE"
      ]
    },
    {
      "cell_type": "markdown",
      "metadata": {
        "id": "n9670RS42cd7"
      },
      "source": [
        "# QUESTION 7 CSP (Advanced) - 10 points\n",
        "\n",
        "Type inference is used in programming languages to\n",
        "infer the type of variables without explicitly stating it.\n",
        "Some examples:\n",
        "* x = 1  (we can infer x is an integer because 1 is an integer)\n",
        "* y = 1.0 (we can infer y is a float because 1.0 is a float)\n",
        "* z = x + y (we can infer z is a float because adding a float\n",
        "and an integer results in a float)\n",
        "\n",
        "Constraint satisfaction problem solvers can be used to perform\n",
        "type inference. The variables of the programming languages become the variables of the CSP problem, and the domain of each variable is the types it can have. Constraints are created from the expressions analyzed in order to enforce that the assignment of variables to types is correct. Let's consider a simple example:\n",
        "\n",
        "* int I\n",
        "* float F\n",
        "* X = I\n",
        "* Y = X + F\n",
        "* Z = X + Y\n",
        "* W = X + I\n",
        "\n",
        "We assume that when two variables are connected using assignment then they are the same type. So X is an integer because I has been declared an integer. The type of the result of adding two integers is an integer, the result of adding two floats is a float but the result of adding an integer and a float has type float. So we know that X is an integer and we add F which is a float therefore Y is a float and similarly Z is also a float.  W is an integer because X and I are integers.\n",
        "\n",
        "Notice that we did not declare the types of X, Y, and Z but were able to infer them using the semantics of the equality sign and addition.\n",
        "\n",
        "1. Your task for this question is to express this code as a CSP problem and solve it.\n",
        "2. The result of the CSP will be the inferred types.\n",
        "3. Each variable (I,F,X,Y,Z,W) will take values from the domain (int, float).\n",
        "4. Unary constraints can be used for the type declaration and a binary constraint can be used for the assignment expression.\n",
        "5. You will need to introduce a ternary_constraint method to express the sum expressions."
      ]
    },
    {
      "cell_type": "code",
      "execution_count": null,
      "metadata": {
        "editable": true,
        "tags": [],
        "id": "ojuUuKxs2cd7"
      },
      "outputs": [],
      "source": [
        "# Q7 ANSWER GOES HERE\n",
        "\n",
        "\n",
        "\n",
        "\n",
        "# result = recursive_backtracking(init_assignment(csp1), csp1)\n",
        "# print('Result', result)\n",
        "# Result {'I': 'int', 'F': 'float', 'X': 'int', 'Y': 'float', 'Z': 'float', 'W': 'int'}\n",
        "\n"
      ]
    }
  ],
  "metadata": {
    "kernelspec": {
      "display_name": "Python 3 (ipykernel)",
      "language": "python",
      "name": "python3"
    },
    "language_info": {
      "codemirror_mode": {
        "name": "ipython",
        "version": 3
      },
      "file_extension": ".py",
      "mimetype": "text/x-python",
      "name": "python",
      "nbconvert_exporter": "python",
      "pygments_lexer": "ipython3",
      "version": "3.12.1"
    },
    "colab": {
      "provenance": [],
      "include_colab_link": true
    }
  },
  "nbformat": 4,
  "nbformat_minor": 0
}