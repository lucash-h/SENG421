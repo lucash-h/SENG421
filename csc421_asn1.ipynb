{
  "cells": [
    {
      "cell_type": "markdown",
      "metadata": {
        "id": "view-in-github",
        "colab_type": "text"
      },
      "source": [
        "<a href=\"https://colab.research.google.com/github/lucash-h/SENG421/blob/main/csc421_asn1.ipynb\" target=\"_parent\"><img src=\"https://colab.research.google.com/assets/colab-badge.svg\" alt=\"Open In Colab\"/></a>"
      ]
    },
    {
      "cell_type": "markdown",
      "metadata": {
        "id": "6xyW_ei92cdu"
      },
      "source": [
        "# CSC421 Assignment 1 Search, and CSP\n",
        "\n",
        "This assignment notebook explores topics covered in **Chapter 3 - Searching** and **Chapter 6 - Constraint Satisfaction Problems** from the book *Artificial Intelligence: A Modern Approach.* The code provided is based on parts of the aima-code repository but has been adapted, modified and simplified for the assignment. The notebook is self-contained and other than importing a few common packages you don't need to access any additional code.\n",
        "\n",
        "Plagiarism checking will be done. At the teaching team's discretion, a random subset of students may be examined in person and asked questions about the code submitted. Failure to understand the submitted code will result in a 0 grade for the entire assignment.\n",
        "\n",
        "The assignment structure is as follows:\n",
        "\n",
        "1. Search (Basic): Add a connection to the Romania map, try out search, print paths\n",
        "2. Search (Basic): Return frontier lengths\n",
        "3. Search (Expected): New Search\n",
        "4. Search (Expected): Change the grid problem to 8 directions and finite square shape\n",
        "5. Search (Expected): Landgrid problem and Manhattan distance\n",
        "6. CSP (Expected): CSP for a map of Australia with unitary constraint  \n",
        "7. CSP (Advanced): Type inference toy example as CSP  \n",
        "\n",
        "**IMPORTANT:** An assignment through Brightspace will provide the complete submission details. You will be required to submit this notebook. For working on the assignment, I recommend using the Jupyter-lab interface as it supports interactive development and is helpful for visualizations and plots. Please make sure the notebook you submit is clean, it should not be so heavily modified with debugging, additional figures, etc. that it becomes difficult to mark. Make sure that the notebook you submit is functioning and that you have used best practices in ensuring that (reloading the notebook, clearing history/memory, HINT: you may need to force refresh your browser (e.g., crtl+F5), ensuring that the submission is actually what you intend to submit for marking). We will **NOT** accept changes after the deadline if you have made a submission mistake."
      ]
    },
    {
      "cell_type": "code",
      "execution_count": null,
      "metadata": {
        "id": "dWDMYlyE2cdx"
      },
      "outputs": [],
      "source": [
        "## We'll start here defining useful imports, classes, and functions for later.\n",
        "## Notably, we will create:\n",
        "### an abstract problem that allows us to define actions, actions costs, the results of a valid action and an ability to check if we have arrived at the goal\n",
        "### a node for defining search tree expansion\n",
        "### a priority queueu (useful for search algorithm implementations, as we discussed in the slides)\n",
        "### a series of search algorithms under the umbrella of Best First Search, by choosing a particular cost function we can get form this a particular search algorithm!\n",
        "#### *HINT* Examine these individual search algorithm implementations closely and try to understand how such small changes lead to completely different approaches\n",
        "\n",
        "\n",
        "## ABSTRACT PROBLEM CLASS\n",
        "\n",
        "%matplotlib inline\n",
        "import matplotlib.pyplot as plt\n",
        "import random\n",
        "import heapq\n",
        "import math\n",
        "import sys\n",
        "import numpy as np\n",
        "from collections import defaultdict, deque, Counter\n",
        "from itertools import combinations\n",
        "\n",
        "class Problem(object):\n",
        "    \"\"\"The abstract class for a formal problem. A new domain subclasses this,\n",
        "    overriding `actions` and `results`, and perhaps other methods.\n",
        "    The default heuristic is 0 and the default action cost is 1 for all states.\n",
        "    When you create an instance of a subclass, specify `initial`, and `goal` states\n",
        "    (or give an `is_goal` method) and perhaps other keyword args for the subclass.\"\"\"\n",
        "\n",
        "    def __init__(self, initial=None, goal=None, **kwds):\n",
        "        self.__dict__.update(initial=initial, goal=goal, **kwds)\n",
        "\n",
        "    def actions(self, state):        raise NotImplementedError\n",
        "    def result(self, state, action): raise NotImplementedError\n",
        "    def is_goal(self, state):        return state == self.goal\n",
        "    def action_cost(self, s, a, s1): return 1\n",
        "    def h(self, node):               return 0\n",
        "\n",
        "    def __str__(self):\n",
        "        return '{}({!r}, {!r})'.format(\n",
        "            type(self).__name__, self.initial, self.goal)\n",
        "\n",
        "class Node:\n",
        "    \"A Node in a search tree.\"\n",
        "    def __init__(self, state, parent=None, action=None, path_cost=0):\n",
        "        self.__dict__.update(state=state, parent=parent, action=action, path_cost=path_cost)\n",
        "\n",
        "    def __repr__(self): return '<{}>'.format(self.state)\n",
        "    def __len__(self): return 0 if self.parent is None else (1 + len(self.parent))\n",
        "    def __lt__(self, other): return self.path_cost < other.path_cost\n",
        "\n",
        "failure = Node('failure', path_cost=math.inf) # Indicates an algorithm couldn't find a solution.\n",
        "cutoff  = Node('cutoff',  path_cost=math.inf) # Indicates iterative deepening search was cut off.\n",
        "\n",
        "def expand(problem, node):\n",
        "    \"Expand a node, generating the children nodes.\"\n",
        "    s = node.state\n",
        "    for action in problem.actions(s):\n",
        "        s1 = problem.result(s, action)\n",
        "        cost = node.path_cost + problem.action_cost(s, action, s1)\n",
        "        yield Node(s1, node, action, cost)\n",
        "\n",
        "def path_actions(node):\n",
        "    \"The sequence of actions to get to this node.\"\n",
        "    if node.parent is None:\n",
        "        return []\n",
        "    return path_actions(node.parent) + [node.action]\n",
        "\n",
        "def path_states(node):\n",
        "    \"The sequence of states to get to this node.\"\n",
        "    if node in (cutoff, failure, None):\n",
        "        return []\n",
        "    return path_states(node.parent) + [node.state]"
      ]
    },
    {
      "cell_type": "code",
      "execution_count": null,
      "metadata": {
        "id": "KN2QrV0a2cdz"
      },
      "outputs": [],
      "source": [
        "# PriorityQueue - note\n",
        "# there is a small difference from the\n",
        "# book implementation in order to ensure\n",
        "# sorting stability\n",
        "\n",
        "class PriorityQueue:\n",
        "    \"\"\"A queue in which the item with minimum f(item) is always popped first.\"\"\"\n",
        "\n",
        "    def __init__(self, items=(), key=lambda x: x):\n",
        "        self.key = key\n",
        "        self.items = [] # a heap of (score, item) pairs\n",
        "        self.item_count = 0\n",
        "        for item in items:\n",
        "            self.add(item)\n",
        "\n",
        "    def add(self, item):\n",
        "        \"\"\"Add item to the queuez.\"\"\"\n",
        "        pair = ((self.key(item),self.item_count), item)\n",
        "        heapq.heappush(self.items, pair)\n",
        "        self.item_count+=1\n",
        "\n",
        "    def pop(self):\n",
        "        \"\"\"Pop and return the item with min f(item) value.\"\"\"\n",
        "        return heapq.heappop(self.items)[1]\n",
        "\n",
        "    def top(self): return self.items[0][1]\n",
        "\n",
        "    def get_items(self):\n",
        "        return self.items.copy()\n",
        "\n",
        "    def __len__(self): return len(self.items)"
      ]
    },
    {
      "cell_type": "code",
      "execution_count": null,
      "metadata": {
        "id": "KNjSuRGE2cd0"
      },
      "outputs": [],
      "source": [
        "# Different search algorithms\n",
        "# defined by appropriate definition of priorities\n",
        "\n",
        "\n",
        "def best_first_search(problem, f):\n",
        "    \"Search nodes with minimum f(node) value first.\"\n",
        "    node = Node(problem.initial)\n",
        "    frontier = PriorityQueue([node], key=f)\n",
        "    reached = {problem.initial: node}\n",
        "    frontiers = []\n",
        "    while frontier:\n",
        "        frontier_items = frontier.get_items()\n",
        "        frontiers.append(frontier_items)\n",
        "        node = frontier.pop()\n",
        "\n",
        "        if problem.is_goal(node.state):\n",
        "            return (node,reached,frontiers)\n",
        "        for child in expand(problem, node):\n",
        "            s = child.state\n",
        "            if s not in reached or child.path_cost < reached[s].path_cost:\n",
        "                reached[s] = child\n",
        "                frontier.add(child)\n",
        "\n",
        "    return (failure, reached, frontiers)\n",
        "\n",
        "def g(n): return n.path_cost\n",
        "\n",
        "def astar_search(problem, h=None):\n",
        "    \"\"\"Search nodes with minimum f(n) = g(n) + h(n).\"\"\"\n",
        "    h = h or problem.h\n",
        "    return best_first_search(problem, f=lambda n: g(n) + h(n))\n",
        "\n",
        "def greedy_bfs(problem, h=None):\n",
        "    \"\"\"Search nodes with minimum h(n).\"\"\"\n",
        "    h = h or problem.h\n",
        "    return best_first_search(problem, f=h)\n",
        "\n",
        "def uniform_cost_search(problem):\n",
        "    \"Search nodes with minimum path cost first.\"\n",
        "    return best_first_search(problem, f=g)\n",
        "\n",
        "def breadth_first_bfs(problem):\n",
        "    \"Search shallowest nodes in the search tree first; using best-first.\"\n",
        "    return best_first_search(problem, f=len)\n"
      ]
    },
    {
      "cell_type": "markdown",
      "metadata": {
        "id": "VpaZo5Jj2cd1"
      },
      "source": [
        "# QUESTION 1 Search (Basic) - 6 points\n",
        "\n",
        "This question looks at how the RouteProblem works using the classic map of Romania.\n",
        "\n",
        "<img src=\"images/romania_map.png\" width=\"45%\">\n",
        "\n",
        "1. Create a copy of the map of Romania specified below and call it romania_new\n",
        "2. Add a connection from Fagaras to Vaslui with a cost of 345 in romania_new\n",
        "3. Create a new RouteProblem called r_new using the **romania_new** map for the pair Arad (initial state) to Eforie (goal state)\n",
        "4. Run **GreedySearch** search, print the solution path and path cost for r_new\n",
        "5. Run **BreadthFirstSearch** search, print the solution path and path cost for r_new\n",
        "6. Run **UniformCostSearch** search, print the solution path and path cost for r_new\n",
        "\n",
        "*NOTE: an example of route problems, search calls, and printing is provided below*\n",
        "*NOTE: node class has a cost already and you recieve the final node in the path from search functions which holds the total cost*"
      ]
    },
    {
      "cell_type": "code",
      "execution_count": null,
      "metadata": {
        "id": "XTL-yx7i2cd1"
      },
      "outputs": [],
      "source": [
        "class RouteProblem(Problem):\n",
        "    \"\"\"A problem to find a route between locations on a `Map`.\n",
        "    Create a problem with RouteProblem(start, goal, map=Map(...)}).\n",
        "    States are the vertexes in the Map graph; actions are destination states.\"\"\"\n",
        "\n",
        "    def actions(self, state):\n",
        "        \"\"\"The places neighboring `state`.\"\"\"\n",
        "        return self.map.neighbors[state]\n",
        "\n",
        "    def result(self, state, action):\n",
        "        \"\"\"Go to the `action` place, if the map says that is possible.\"\"\"\n",
        "        return action if action in self.map.neighbors[state] else state\n",
        "\n",
        "    def action_cost(self, s, action, s1):\n",
        "        \"\"\"The distance (cost) to go from s to s1.\"\"\"\n",
        "        return self.map.distances[s, s1]\n",
        "\n",
        "    def h(self, node):\n",
        "        \"Straight-line distance between state and the goal.\"\n",
        "        locs = self.map.locations\n",
        "        return straight_line_distance(locs[node.state], locs[self.goal])\n",
        "\n",
        "\n",
        "def straight_line_distance(A, B):\n",
        "    \"Straight-line distance between two points.\"\n",
        "    return sum(abs(a - b)**2 for (a, b) in zip(A, B)) ** 0.5"
      ]
    },
    {
      "cell_type": "code",
      "execution_count": null,
      "metadata": {
        "id": "s_sxU2Uc2cd1"
      },
      "outputs": [],
      "source": [
        "class Map:\n",
        "    \"\"\"A map of places in a 2D world: a graph with vertexes and links between them.\n",
        "    In `Map(links, locations)`, `links` can be either [(v1, v2)...] pairs,\n",
        "    or a {(v1, v2): distance...} dict. Optional `locations` can be {v1: (x, y)}\n",
        "    If `directed=False` then for every (v1, v2) link, we add a (v2, v1) link.\"\"\"\n",
        "\n",
        "    def __init__(self, links, locations=None, directed=False):\n",
        "        if not hasattr(links, 'items'): # Distances are 1 by default\n",
        "            links = {link: 1 for link in links}\n",
        "        if not directed:\n",
        "            for (v1, v2) in list(links):\n",
        "                links[v2, v1] = links[v1, v2]\n",
        "        self.distances = links\n",
        "        self.neighbors = multimap(links)\n",
        "        self.locations = locations or defaultdict(lambda: (0, 0))\n",
        "\n",
        "\n",
        "def multimap(pairs) -> dict:\n",
        "    \"Given (key, val) pairs, make a dict of {key: [val,...]}.\"\n",
        "    result = defaultdict(list)\n",
        "    for key, val in pairs:\n",
        "        result[key].append(val)\n",
        "    return result"
      ]
    },
    {
      "cell_type": "code",
      "execution_count": null,
      "metadata": {
        "colab": {
          "base_uri": "https://localhost:8080/"
        },
        "id": "Z9XfJjfz2cd2",
        "outputId": "0db001b6-7ca0-4a58-a1eb-deaf9e00fe96"
      },
      "outputs": [
        {
          "output_type": "stream",
          "name": "stdout",
          "text": [
            "Greedy Search Examples\n",
            "['A']\n",
            "['A', 'S', 'F', 'B']\n",
            "['N', 'I', 'V', 'U', 'B', 'F', 'S', 'R', 'C', 'D', 'M', 'L']\n",
            "['E', 'H', 'U', 'B', 'F', 'S', 'A', 'T']\n",
            "['O', 'S', 'R', 'C', 'D', 'M']\n",
            "Breadth First Search Examples\n",
            "['A']\n",
            "['A', 'S', 'F', 'B']\n",
            "['N', 'I', 'V', 'U', 'B', 'F', 'S', 'A', 'T', 'L']\n",
            "['E', 'H', 'U', 'B', 'F', 'S', 'A', 'T']\n",
            "['O', 'Z', 'A', 'T', 'L', 'M']\n",
            "Uniform Cost Search Examples\n",
            "['A']\n",
            "['A', 'S', 'R', 'P', 'B']\n",
            "['N', 'I', 'V', 'U', 'B', 'P', 'C', 'D', 'M', 'L']\n",
            "['E', 'H', 'U', 'B', 'P', 'R', 'S', 'A', 'T']\n",
            "['O', 'Z', 'A', 'T', 'L', 'M']\n"
          ]
        }
      ],
      "source": [
        "# Some specific RouteProblems for you to examine, specifically using DIjkstra, Breadth First, and Greedy will generally give you very different results when expanding nodes that have many edges to explore\n",
        "\n",
        "romania = Map(\n",
        "    {('O', 'Z'):  71, ('O', 'S'): 151, ('A', 'Z'): 75, ('A', 'S'): 140, ('A', 'T'): 118,\n",
        "     ('L', 'T'): 111, ('L', 'M'):  70, ('D', 'M'): 75, ('C', 'D'): 120, ('C', 'R'): 146,\n",
        "     ('C', 'P'): 138, ('R', 'S'):  80, ('F', 'S'): 99, ('B', 'F'): 211, ('B', 'P'): 101,\n",
        "     ('B', 'G'):  90, ('B', 'U'):  85, ('H', 'U'): 98, ('E', 'H'):  86, ('U', 'V'): 142,\n",
        "     ('I', 'V'):  92, ('I', 'N'):  87, ('P', 'R'): 97, },\n",
        "    {'A': ( 76, 497), 'B': (400, 327), 'C': (246, 285), 'D': (160, 296), 'E': (558, 294),\n",
        "     'F': (285, 460), 'G': (368, 257), 'H': (548, 355), 'I': (488, 535), 'L': (162, 379),\n",
        "     'M': (160, 343), 'N': (407, 561), 'O': (117, 580), 'P': (311, 372), 'R': (227, 412),\n",
        "     'S': (187, 463), 'T': ( 83, 414), 'U': (471, 363), 'V': (535, 473), 'Z': (92, 539)})\n",
        "\n",
        "\n",
        "romania_r0 = RouteProblem('A', 'A', map=romania)\n",
        "romania_r1 = RouteProblem('A', 'B', map=romania)\n",
        "romania_r2 = RouteProblem('N', 'L', map=romania)\n",
        "romania_r3 = RouteProblem('E', 'T', map=romania)\n",
        "romania_r4 = RouteProblem('O', 'M', map=romania)\n",
        "\n",
        "print(\"Greedy Search Examples\")\n",
        "greedy_s0, reached, frontiers = greedy_bfs(romania_r0)\n",
        "greedy_s1, reached, frontiers = greedy_bfs(romania_r1)\n",
        "greedy_s2, reached, frontiers = greedy_bfs(romania_r2)\n",
        "greedy_s3, reached, frontiers = greedy_bfs(romania_r3)\n",
        "greedy_s4, reached, frontiers = greedy_bfs(romania_r4)\n",
        "print(path_states(greedy_s0))\n",
        "print(path_states(greedy_s1))\n",
        "print(path_states(greedy_s2))\n",
        "print(path_states(greedy_s3))\n",
        "print(path_states(greedy_s4))\n",
        "\n",
        "print(\"Breadth First Search Examples\")\n",
        "bfs_s0, reached, frontiers = breadth_first_bfs(romania_r0)\n",
        "bfs_s1, reached, frontiers = breadth_first_bfs(romania_r1)\n",
        "bfs_s2, reached, frontiers = breadth_first_bfs(romania_r2)\n",
        "bfs_s3, reached, frontiers = breadth_first_bfs(romania_r3)\n",
        "bfs_s4, reached, frontiers = breadth_first_bfs(romania_r4)\n",
        "print(path_states(bfs_s0))\n",
        "print(path_states(bfs_s1))\n",
        "print(path_states(bfs_s2))\n",
        "print(path_states(bfs_s3))\n",
        "print(path_states(bfs_s4))\n",
        "\n",
        "print(\"Uniform Cost Search Examples\")\n",
        "uniform_s0, reached, frontiers = uniform_cost_search(romania_r0)\n",
        "uniform_s1, reached, frontiers = uniform_cost_search(romania_r1)\n",
        "uniform_s2, reached, frontiers = uniform_cost_search(romania_r2)\n",
        "uniform_s3, reached, frontiers = uniform_cost_search(romania_r3)\n",
        "uniform_s4, reached, frontiers = uniform_cost_search(romania_r4)\n",
        "print(path_states(uniform_s0))\n",
        "print(path_states(uniform_s1))\n",
        "print(path_states(uniform_s2))\n",
        "print(path_states(uniform_s3))\n",
        "print(path_states(uniform_s4))\n",
        "\n",
        "# the answer should be\n",
        "# Greedy Search Examples\n",
        "# ['A']\n",
        "# ['A', 'S', 'F', 'B']\n",
        "# ['N', 'I', 'V', 'U', 'B', 'F', 'S', 'R', 'C', 'D', 'M', 'L']\n",
        "# ['E', 'H', 'U', 'B', 'F', 'S', 'A', 'T']\n",
        "# ['O', 'S', 'R', 'C', 'D', 'M']\n",
        "# Breadth First Search Examples\n",
        "# ['A']\n",
        "# ['A', 'S', 'F', 'B']\n",
        "# ['N', 'I', 'V', 'U', 'B', 'F', 'S', 'A', 'T', 'L']\n",
        "# ['E', 'H', 'U', 'B', 'F', 'S', 'A', 'T']\n",
        "# ['O', 'Z', 'A', 'T', 'L', 'M']\n",
        "# Uniform Cost Search Examples\n",
        "# ['A']\n",
        "# ['A', 'S', 'R', 'P', 'B']\n",
        "# ['N', 'I', 'V', 'U', 'B', 'P', 'C', 'D', 'M', 'L']\n",
        "# ['E', 'H', 'U', 'B', 'P', 'R', 'S', 'A', 'T']\n",
        "# ['O', 'Z', 'A', 'T', 'L', 'M']"
      ]
    },
    {
      "cell_type": "code",
      "execution_count": null,
      "metadata": {
        "id": "TRO9NW0q2cd3"
      },
      "outputs": [],
      "source": [
        "#1. Create a copy of the map of Romania specified below and call it romania_new\n",
        "romania_new = Map(\n",
        "    {('O', 'Z'):  71, ('O', 'S'): 151, ('A', 'Z'): 75, ('A', 'S'): 140, ('A', 'T'): 118,\n",
        "     ('L', 'T'): 111, ('L', 'M'):  70, ('D', 'M'): 75, ('C', 'D'): 120, ('C', 'R'): 146,\n",
        "     ('C', 'P'): 138, ('R', 'S'):  80, ('F', 'S'): 99, ('B', 'F'): 211, ('B', 'P'): 101,\n",
        "     ('B', 'G'):  90, ('B', 'U'):  85, ('H', 'U'): 98, ('E', 'H'):  86, ('U', 'V'): 142,\n",
        "     ('I', 'V'):  92, ('I', 'N'):  87, ('P', 'R'): 97, ('F', 'V'): 345},\n",
        "    {'A': ( 76, 497), 'B': (400, 327), 'C': (246, 285), 'D': (160, 296), 'E': (558, 294),\n",
        "     'F': (285, 460), 'G': (368, 257), 'H': (548, 355), 'I': (488, 535), 'L': (162, 379),\n",
        "     'M': (160, 343), 'N': (407, 561), 'O': (117, 580), 'P': (311, 372), 'R': (227, 412),\n",
        "     'S': (187, 463), 'T': ( 83, 414), 'U': (471, 363), 'V': (535, 473), 'Z': (92, 539)})\n",
        "\n",
        "#2. Add a connection from Fagaras to Vaslui with a cost of 345 in romania_new\n",
        "\n",
        "#3. Create a new RouteProblem called r_new using the **romania_new** map for the pair Arad (initial state) to Eforie (goal state)\n",
        "r_problem = Problem('A', 'E', map=romania_new)\n",
        "r_new = RouteProblem('A', 'E', map=romania)\n"
      ]
    },
    {
      "cell_type": "code",
      "source": [
        "#4. Run **GreedySearch** search, print the solution path and path cost for r_new\n",
        "print('Greedy Search for r_new')\n",
        "\n",
        "greedysearch, reached, frontiers = greedy_bfs(r_new)\n",
        "print(path_states(greedysearch))"
      ],
      "metadata": {
        "colab": {
          "base_uri": "https://localhost:8080/"
        },
        "id": "nvaidNyp6VoC",
        "outputId": "d9fc0604-ad76-4cfe-85bf-6216d2bc42c1"
      },
      "execution_count": null,
      "outputs": [
        {
          "output_type": "stream",
          "name": "stdout",
          "text": [
            "Greedy Search for r_new\n",
            "['A', 'S', 'F', 'B', 'U', 'H', 'E']\n"
          ]
        }
      ]
    },
    {
      "cell_type": "code",
      "source": [
        "#5. Run **BreadthFirstSearch** search, print the solution path and path cost for r_new\n",
        "print('Breadth First Search for r_new')\n",
        "bfs_search, reached, frontiers = breadth_first_bfs(r_new)\n",
        "print(path_states(bfs_search))\n",
        "\n"
      ],
      "metadata": {
        "colab": {
          "base_uri": "https://localhost:8080/"
        },
        "id": "5rO6cafq6r7Z",
        "outputId": "b76ee338-c296-4771-d87f-a5ff14826ee1"
      },
      "execution_count": null,
      "outputs": [
        {
          "output_type": "stream",
          "name": "stdout",
          "text": [
            "Breadth First Search for r_new\n",
            "['A', 'S', 'F', 'B', 'U', 'H', 'E']\n"
          ]
        }
      ]
    },
    {
      "cell_type": "code",
      "source": [
        "#6. Run **UniformCostSearch** search, print the solution path and path cost for r_new\n",
        "print('Uniform Cost Search for r_new')\n",
        "\n",
        "uniform_cost_search, reached, frontiers = uniform_cost_search(r_new)\n",
        "print(path_states(uniform_cost_search))"
      ],
      "metadata": {
        "colab": {
          "base_uri": "https://localhost:8080/"
        },
        "id": "coFx6rzC6slk",
        "outputId": "66e0293c-d83a-4c08-dec5-f3fa13013725"
      },
      "execution_count": null,
      "outputs": [
        {
          "output_type": "stream",
          "name": "stdout",
          "text": [
            "Uniform Cost Search for r_new\n",
            "['A', 'S', 'R', 'P', 'B', 'U', 'H', 'E']\n"
          ]
        }
      ]
    },
    {
      "cell_type": "code",
      "execution_count": null,
      "metadata": {
        "id": "UIrYtLzD2cd3"
      },
      "outputs": [],
      "source": [
        "# Your Q1 ANSWER GOES HERE\n",
        "\n",
        "# Part 1 and 2 ANSWER\n",
        "\n",
        "# Part 3 ANSWER\n",
        "\n",
        "# Part 4 ANSWER\n",
        "\n",
        "# Part 5 ANSWER\n",
        "\n",
        "# Part 6 ANSWER\n"
      ]
    },
    {
      "cell_type": "markdown",
      "metadata": {
        "id": "YtE_K-Sm2cd4"
      },
      "source": [
        "# QUESTION 2 Search (Basic) - 4 points\n",
        "Here we dig deeper on the search process and compare uniform vs A* search frontiers.\n",
        "1. Implement the function frontier_lengths. This function should return a list with the lengths of the frontier during the operation of the search algorithm given the frontier list.\n",
        "2. Define a new route problem called route_l_f_new using romania_new going from  Lugoj (initial state) to  Fagaras (goal state).\n",
        "3. Now run this function on the output of **UniformCostSearch** for problem route_l_f_new above AND print the object returned (see example below).\n",
        "4. Now run this function on the output of **AStarSearch** for problem route_l_f_new AND print the object returned (see example below)."
      ]
    },
    {
      "cell_type": "code",
      "source": [
        "#INPUT: Frontier list\n",
        "#OUTPUT: Lengths of the frontier during the search algo\n",
        "#def frontier_lengths(frontiers):\n",
        "#def frontier_lengths(frontiers):\n",
        "    #frontier_lengths = []\n",
        "    #path_states = path_states(frontiers)\n",
        "    #print(path_states)\n",
        "\n",
        "    #return frontier_lengths"
      ],
      "metadata": {
        "id": "9xFhjFEx7frs"
      },
      "execution_count": null,
      "outputs": []
    },
    {
      "cell_type": "code",
      "source": [
        "#uniform_s1, reached, frontiers = uniform_cost_search(romania_r1)\n",
        "path = path_states(uniform_s1)\n",
        "print(path)\n",
        "\n",
        "for i in range(len(path)):\n",
        "  print(path[i])\n",
        "  Node.expand_node(romania_r1, path[i])\n"
      ],
      "metadata": {
        "colab": {
          "base_uri": "https://localhost:8080/",
          "height": 211
        },
        "id": "DpUz7V_PZ4ay",
        "outputId": "25d3881d-0b49-48bd-afa0-d47c0e22b5f9"
      },
      "execution_count": null,
      "outputs": [
        {
          "output_type": "stream",
          "name": "stdout",
          "text": [
            "['A', 'S', 'R', 'P', 'B']\n",
            "A\n"
          ]
        },
        {
          "output_type": "error",
          "ename": "AttributeError",
          "evalue": "type object 'Node' has no attribute 'expand_node'",
          "traceback": [
            "\u001b[0;31m---------------------------------------------------------------------------\u001b[0m",
            "\u001b[0;31mAttributeError\u001b[0m                            Traceback (most recent call last)",
            "\u001b[0;32m/tmp/ipython-input-2554414538.py\u001b[0m in \u001b[0;36m<cell line: 0>\u001b[0;34m()\u001b[0m\n\u001b[1;32m      5\u001b[0m \u001b[0;32mfor\u001b[0m \u001b[0mi\u001b[0m \u001b[0;32min\u001b[0m \u001b[0mrange\u001b[0m\u001b[0;34m(\u001b[0m\u001b[0mlen\u001b[0m\u001b[0;34m(\u001b[0m\u001b[0mpath\u001b[0m\u001b[0;34m)\u001b[0m\u001b[0;34m)\u001b[0m\u001b[0;34m:\u001b[0m\u001b[0;34m\u001b[0m\u001b[0;34m\u001b[0m\u001b[0m\n\u001b[1;32m      6\u001b[0m   \u001b[0mprint\u001b[0m\u001b[0;34m(\u001b[0m\u001b[0mpath\u001b[0m\u001b[0;34m[\u001b[0m\u001b[0mi\u001b[0m\u001b[0;34m]\u001b[0m\u001b[0;34m)\u001b[0m\u001b[0;34m\u001b[0m\u001b[0;34m\u001b[0m\u001b[0m\n\u001b[0;32m----> 7\u001b[0;31m   \u001b[0mNode\u001b[0m\u001b[0;34m.\u001b[0m\u001b[0mexpand_node\u001b[0m\u001b[0;34m(\u001b[0m\u001b[0mromania_r1\u001b[0m\u001b[0;34m,\u001b[0m \u001b[0mpath\u001b[0m\u001b[0;34m[\u001b[0m\u001b[0mi\u001b[0m\u001b[0;34m]\u001b[0m\u001b[0;34m)\u001b[0m\u001b[0;34m\u001b[0m\u001b[0;34m\u001b[0m\u001b[0m\n\u001b[0m",
            "\u001b[0;31mAttributeError\u001b[0m: type object 'Node' has no attribute 'expand_node'"
          ]
        }
      ]
    },
    {
      "cell_type": "code",
      "execution_count": null,
      "metadata": {
        "colab": {
          "base_uri": "https://localhost:8080/",
          "height": 211
        },
        "id": "wwKZmjW52cd4",
        "outputId": "21f13c23-6c3e-43a1-f648-19fa492824a7"
      },
      "outputs": [
        {
          "output_type": "error",
          "ename": "TypeError",
          "evalue": "'Node' object is not callable",
          "traceback": [
            "\u001b[0;31m---------------------------------------------------------------------------\u001b[0m",
            "\u001b[0;31mTypeError\u001b[0m                                 Traceback (most recent call last)",
            "\u001b[0;32m/tmp/ipython-input-3599970510.py\u001b[0m in \u001b[0;36m<cell line: 0>\u001b[0;34m()\u001b[0m\n\u001b[1;32m      3\u001b[0m \u001b[0;34m\u001b[0m\u001b[0m\n\u001b[1;32m      4\u001b[0m \u001b[0;31m# An example to illustrate functionality and printing output on the Arad to Bucharest route\u001b[0m\u001b[0;34m\u001b[0m\u001b[0;34m\u001b[0m\u001b[0m\n\u001b[0;32m----> 5\u001b[0;31m \u001b[0ms1\u001b[0m\u001b[0;34m,\u001b[0m \u001b[0mreached\u001b[0m\u001b[0;34m,\u001b[0m \u001b[0mfrontiers\u001b[0m \u001b[0;34m=\u001b[0m \u001b[0muniform_cost_search\u001b[0m\u001b[0;34m(\u001b[0m\u001b[0mromania_r1\u001b[0m\u001b[0;34m)\u001b[0m\u001b[0;34m\u001b[0m\u001b[0;34m\u001b[0m\u001b[0m\n\u001b[0m\u001b[1;32m      6\u001b[0m \u001b[0;31m#print(frontiers)\u001b[0m\u001b[0;34m\u001b[0m\u001b[0;34m\u001b[0m\u001b[0m\n\u001b[1;32m      7\u001b[0m \u001b[0;34m\u001b[0m\u001b[0m\n",
            "\u001b[0;31mTypeError\u001b[0m: 'Node' object is not callable"
          ]
        }
      ],
      "source": [
        "# Your Q2 PART 1 ANSWER GOES HERE\n",
        "# Part 1 ANSWER\n",
        "\n",
        "# An example to illustrate functionality and printing output on the Arad to Bucharest route\n",
        "s1, reached, frontiers = uniform_cost_search(romania_r1)\n",
        "#print(frontiers)\n",
        "\n",
        "# This will not work until you implement frontier_lengths above\n",
        "print(frontier_lengths(frontiers))\n",
        "\n",
        "# the answer should be\n",
        "# [1, 3, 3, 3, 4, 3, 4, 4, 4, 4, 4, 3, 2]\n",
        "['A', 'S', 'R', 'P', 'B', 'U', 'H', 'E']\n",
        "\n"
      ]
    },
    {
      "cell_type": "code",
      "execution_count": null,
      "metadata": {
        "id": "yFW-ews32cd4"
      },
      "outputs": [],
      "source": [
        "# Q2 PART 2 ANSWER GOES HERE\n",
        "\n",
        "# Part 2 ANSWER\n"
      ]
    },
    {
      "cell_type": "code",
      "execution_count": null,
      "metadata": {
        "id": "PrP_cAez2cd4"
      },
      "outputs": [],
      "source": [
        "# Q2 PART 3 ANSWER GOES HERE\n",
        "\n",
        "# Part 3 ANSWER\n"
      ]
    },
    {
      "cell_type": "code",
      "execution_count": null,
      "metadata": {
        "id": "IblPkXh42cd4"
      },
      "outputs": [],
      "source": [
        "# Q2 PART 4 ANSWER GOES HERE\n",
        "\n",
        "# Part 4 ANSWER\n"
      ]
    },
    {
      "cell_type": "markdown",
      "metadata": {
        "id": "AXzeYPjI2cd4"
      },
      "source": [
        "# QUESTION 3 New Search (Expected) - 6 points\n",
        "\n",
        "Static weighted A* star is a way to tradeoff optimality for speed. Here you will implement a static weighting of the heuristic in a new A* function. In this search algorithm, the node selected for expansion is biased toward the heuruistic when the weight $\\omega>1$. *NOTE: Dynamic weighted A\\* also exists, where $\\omega$ adjusts with respect to some factor, such as how close we are to the goal.*\n",
        "\n",
        "The formula for the cost funtion for static weighted astar is $f(n) = g(n) + \\omega h(n)$\n",
        "\n",
        "1. Write your own search algorithm called **static_weighted_astar_search**.  Do not modify *best_first_search*, but rather, call it and assign priorities appropritetly to each node, see the example search algorithms given to you above. **static_weighted_astar_search** should accept the route problem and the weight value $\\omega$\n",
        "2. Print the path, path cost, and frontier lengths for **UniformSearch** on route_l_f_new problem.\n",
        "3. Print the path, path cost, and frontier lengths for **AStarSearch** on route_l_f_new problem.\n",
        "4. Use the new static_weighted_astar_search algorithm on route_l_f_new with $\\omega=1.0$.\n",
        "   Print the path, path cost, and frontier lengths for **static_weighted_astar_search** on route_l_f_new problem.\n",
        "5. Use the new static_weighted_astar_search algorithm on route_l_f_new with $\\omega=10.0$.\n",
        "   Print the path, path cost, and frontier lengths for **static_weighted_astar_search** on route_l_f_new problem.\n",
        "6. Use the new static_weighted_astar_search algorithm on route_l_f_new with $\\omega=100.0$.\n",
        "   Print the path, path cost, and frontier lengths for **static_weighted_astar_search** on route_l_f_new problem.\n"
      ]
    },
    {
      "cell_type": "code",
      "execution_count": null,
      "metadata": {
        "id": "kcUNO3qv2cd5"
      },
      "outputs": [],
      "source": [
        "# Q3  Part 1 ANSWER GOES HERE\n"
      ]
    },
    {
      "cell_type": "code",
      "execution_count": null,
      "metadata": {
        "id": "bdtuws4q2cd5"
      },
      "outputs": [],
      "source": [
        "# Q3  Part 2-6 ANSWER GOES HERE\n"
      ]
    },
    {
      "cell_type": "markdown",
      "metadata": {
        "id": "h-nLYAmQ2cd5"
      },
      "source": [
        "# QUESTION 4 Search (Expected) - 5 points\n",
        "\n",
        "1. Create a new class of search problems called **GridProblemMod** by copying and renaming the **GridProblem** class below appropriately.\n",
        "2. For **GridProblemMod** extend the directions the agent can move to so that diagonal movement is allowed i.e. up-left/up/up-right/left/right/down-left/down/down-right movement using that order.\n",
        "3. Unlike the original **GridProblem**, in this case, the grid will be finite and square. Add a parameter to the __init__ method called size that determines the size $N$ of the land grid which is a $N$ by $N$ square. Note this impacts a particular function you now need to modify for this to gracefully stay inside the square."
      ]
    },
    {
      "cell_type": "code",
      "execution_count": null,
      "metadata": {
        "id": "LP5QruH52cd5"
      },
      "outputs": [],
      "source": [
        "def straight_line_distance(A, B):\n",
        "    \"Straight-line distance between two points.\"\n",
        "    return sum(abs(a - b)**2 for (a, b) in zip(A, B)) ** 0.5\n",
        "\n",
        "def transpose(matrix): return list(zip(*matrix))\n",
        "\n",
        "\n",
        "### Starting point for GridProblemMod\n",
        "class GridProblem(Problem):\n",
        "    \"\"\"Finding a path on a 2D grid with obstacles. Obstacles are (x, y) cells.\"\"\"\n",
        "\n",
        "    def __init__(self, initial=(15, 30), goal=(130, 30), obstacles=(), **kwds):\n",
        "        Problem.__init__(self, initial=initial, goal=goal,\n",
        "                         obstacles=set(obstacles) - {initial, goal}, **kwds)\n",
        "\n",
        "    directions = [(-1, 0), (0, 1), (1,  0), (0,-1)]\n",
        "\n",
        "    def action_cost(self, s, action, s1): return straight_line_distance(s, s1)\n",
        "\n",
        "    def h(self, node): return straight_line_distance(node.state, self.goal)\n",
        "\n",
        "    def result(self, state, action):\n",
        "        \"Both states and actions are represented by (x, y) pairs.\"\n",
        "        return action if action not in self.obstacles else state\n",
        "\n",
        "    def actions(self, state):\n",
        "        \"\"\"You can move one cell in any of `directions` to a non-obstacle cell.\"\"\"\n",
        "        x, y = state\n",
        "        return {(x + dx, y + dy) for (dx, dy) in self.directions} - self.obstacles\n",
        "\n",
        "\n",
        "### Simple Grid problem plotting\n",
        "def plot_simple_grid_problem(grid, solution, reached=(), title='Search', show=True):\n",
        "    \"Use matplotlib to plot the grid, obstacles, solution, and reached.\"\n",
        "    grid_board = []\n",
        "    for i in range(0,grid.size):\n",
        "        for j in range(0,grid.size):\n",
        "            grid_board.append((i,j))\n",
        "\n",
        "    nlocations =  grid.size\n",
        "\n",
        "    plt.figure(figsize=(5, 5))\n",
        "    plt.axis('on');\n",
        "    plt.xlim((-0.5,nlocations-0.5))\n",
        "    plt.ylim((-0.5,nlocations-0.5))\n",
        "    plt.scatter(*transpose(grid_board), (250 / nlocations) **2, marker='s', c='lightgrey')\n",
        "    if (grid.obstacles):\n",
        "        plt.scatter(*transpose(grid.obstacles), (250 / nlocations) **2, marker='s', c='black')\n",
        "    plt.scatter(*transpose(reached), (50/nlocations)**2, marker='o', c='blue')\n",
        "    plt.scatter(*transpose(path_states(solution)), (100 / nlocations) **2,marker='s', c='red')\n",
        "    plt.scatter(*transpose([grid.initial]), (50/nlocations)**2, marker='D', c='white')\n",
        "    plt.scatter(*transpose([grid.goal]), (125/nlocations)**2, marker='*', c='white')\n",
        "    if show: plt.show()\n",
        "    print('{} {} search: {:.1f} path cost, {:,d} states reached'\n",
        "          .format(' ' * 10, title, solution.path_cost, len(reached)))"
      ]
    },
    {
      "cell_type": "code",
      "execution_count": null,
      "metadata": {
        "id": "e0Qo1SJa2cd5",
        "outputId": "62c4be3d-284e-45e8-dfcf-33b89127018e",
        "colab": {
          "base_uri": "https://localhost:8080/",
          "height": 211
        }
      },
      "outputs": [
        {
          "output_type": "error",
          "ename": "NameError",
          "evalue": "name 'GridProblemMod' is not defined",
          "traceback": [
            "\u001b[0;31m---------------------------------------------------------------------------\u001b[0m",
            "\u001b[0;31mNameError\u001b[0m                                 Traceback (most recent call last)",
            "\u001b[0;32m/tmp/ipython-input-4122922174.py\u001b[0m in \u001b[0;36m<cell line: 0>\u001b[0;34m()\u001b[0m\n\u001b[1;32m      9\u001b[0m \u001b[0;34m\u001b[0m\u001b[0m\n\u001b[1;32m     10\u001b[0m \u001b[0;31m# This code will not work until you implement all Parts above\u001b[0m\u001b[0;34m\u001b[0m\u001b[0;34m\u001b[0m\u001b[0m\n\u001b[0;32m---> 11\u001b[0;31m \u001b[0mgmod1\u001b[0m \u001b[0;34m=\u001b[0m \u001b[0mGridProblemMod\u001b[0m\u001b[0;34m(\u001b[0m\u001b[0minitial\u001b[0m \u001b[0;34m=\u001b[0m \u001b[0;34m(\u001b[0m\u001b[0;36m2\u001b[0m\u001b[0;34m,\u001b[0m\u001b[0;36m2\u001b[0m\u001b[0;34m)\u001b[0m\u001b[0;34m,\u001b[0m \u001b[0mgoal\u001b[0m \u001b[0;34m=\u001b[0m \u001b[0;34m(\u001b[0m\u001b[0;36m7\u001b[0m\u001b[0;34m,\u001b[0m\u001b[0;36m6\u001b[0m\u001b[0;34m)\u001b[0m\u001b[0;34m,\u001b[0m \u001b[0msize\u001b[0m\u001b[0;34m=\u001b[0m\u001b[0;36m10\u001b[0m\u001b[0;34m,\u001b[0m \u001b[0mobstacles\u001b[0m \u001b[0;34m=\u001b[0m \u001b[0;34m[\u001b[0m\u001b[0;34m(\u001b[0m\u001b[0;36m4\u001b[0m\u001b[0;34m,\u001b[0m\u001b[0;36m4\u001b[0m\u001b[0;34m)\u001b[0m\u001b[0;34m,\u001b[0m\u001b[0;34m(\u001b[0m\u001b[0;36m5\u001b[0m\u001b[0;34m,\u001b[0m\u001b[0;36m4\u001b[0m\u001b[0;34m)\u001b[0m\u001b[0;34m,\u001b[0m\u001b[0;34m(\u001b[0m\u001b[0;36m6\u001b[0m\u001b[0;34m,\u001b[0m\u001b[0;36m4\u001b[0m\u001b[0;34m)\u001b[0m\u001b[0;34m,\u001b[0m\u001b[0;34m(\u001b[0m\u001b[0;36m4\u001b[0m\u001b[0;34m,\u001b[0m\u001b[0;36m5\u001b[0m\u001b[0;34m)\u001b[0m\u001b[0;34m,\u001b[0m\u001b[0;34m(\u001b[0m\u001b[0;36m4\u001b[0m\u001b[0;34m,\u001b[0m\u001b[0;36m6\u001b[0m\u001b[0;34m)\u001b[0m\u001b[0;34m,\u001b[0m\u001b[0;34m(\u001b[0m\u001b[0;36m4\u001b[0m\u001b[0;34m,\u001b[0m\u001b[0;36m7\u001b[0m\u001b[0;34m)\u001b[0m\u001b[0;34m,\u001b[0m\u001b[0;34m(\u001b[0m\u001b[0;36m3\u001b[0m\u001b[0;34m,\u001b[0m\u001b[0;36m7\u001b[0m\u001b[0;34m)\u001b[0m\u001b[0;34m,\u001b[0m\u001b[0;34m(\u001b[0m\u001b[0;36m2\u001b[0m\u001b[0;34m,\u001b[0m\u001b[0;36m7\u001b[0m\u001b[0;34m)\u001b[0m\u001b[0;34m]\u001b[0m\u001b[0;34m)\u001b[0m\u001b[0;34m\u001b[0m\u001b[0;34m\u001b[0m\u001b[0m\n\u001b[0m\u001b[1;32m     12\u001b[0m \u001b[0;34m\u001b[0m\u001b[0m\n\u001b[1;32m     13\u001b[0m \u001b[0;34m(\u001b[0m\u001b[0mbfs_g1\u001b[0m\u001b[0;34m,\u001b[0m \u001b[0mbfsreached1\u001b[0m\u001b[0;34m,\u001b[0m \u001b[0mbfsfrontiers1\u001b[0m\u001b[0;34m)\u001b[0m \u001b[0;34m=\u001b[0m \u001b[0mbreadth_first_bfs\u001b[0m\u001b[0;34m(\u001b[0m\u001b[0mgmod1\u001b[0m\u001b[0;34m)\u001b[0m\u001b[0;34m\u001b[0m\u001b[0;34m\u001b[0m\u001b[0m\n",
            "\u001b[0;31mNameError\u001b[0m: name 'GridProblemMod' is not defined"
          ]
        }
      ],
      "source": [
        "# question 4 ANSWER GOES HERE\n",
        "# add your GridProblemMod class\n",
        "# and then check that the code provided works\n",
        "# and produces the desired output\n",
        "# you can add some check of your own to\n",
        "# see how things work\n",
        "\n",
        "\n",
        "\n",
        "# This code will not work until you implement all Parts above\n",
        "gmod1 = GridProblemMod(initial = (2,2), goal = (7,6), size=10, obstacles = [(4,4),(5,4),(6,4),(4,5),(4,6),(4,7),(3,7),(2,7)])\n",
        "\n",
        "(bfs_g1, bfsreached1, bfsfrontiers1) = breadth_first_bfs(gmod1)\n",
        "plot_simple_grid_problem(gmod1, bfs_g1, bfsreached1, title='G1 BFS', show=True)\n",
        "\n",
        "(astar_g1, reached1b, frontiers1b) = astar_search(gmod1)\n",
        "plot_simple_grid_problem(gmod1, astar_g1, reached1b, title='G1 A*', show=True)\n",
        "\n",
        "(stastar_g1, stareached1b, stafrontiers1b) = static_weighted_astar_search(gmod1, 100.0)\n",
        "plot_simple_grid_problem(gmod1, stastar_g1, stareached1b, title='G1 Static Wieghted A*', show=True)\n",
        "\n",
        "\n",
        "gmod2 = GridProblemMod(initial = (0,9), goal = (9,0), size=10, obstacles = [(4,4),(5,4),(6,4),(4,5),(4,6),(4,7),(3,7),(2,7),(4,3),(3,3),(2,3)])\n",
        "\n",
        "(bfs_g2, bfsreached2, bfsfrontiers2) = breadth_first_bfs(gmod2)\n",
        "plot_simple_grid_problem(gmod2, bfs_g2, bfsreached2, title='G1 BFS', show=True)\n",
        "\n",
        "(astar_g2, astarreached2b, frontiers2b) = astar_search(gmod2)\n",
        "plot_simple_grid_problem(gmod2, astar_g2, astarreached2b, title='G1 A*', show=True)\n",
        "\n",
        "(stastar_g2, stareached2b, stafrontiers2b) = static_weighted_astar_search(gmod2, 100.0)\n",
        "plot_simple_grid_problem(gmod2, stastar_g2, stareached2b, title='G1 Static Wieghted A*', show=True)"
      ]
    },
    {
      "cell_type": "markdown",
      "metadata": {
        "editable": true,
        "tags": [],
        "id": "gejHL9Bd2cd5"
      },
      "source": [
        "# QUESTION 5 Search (Expected) - 4 points\n",
        "\n",
        "1. Create a new class of search problems called **LandgridProblem** by copying and renaming the **GridProblemMod** class you completed in the previous question.\n",
        "2. Each location on the LandGrid has an associated number representing the \"cost\" of going through that location. Grass corresponds to 1, hills correspond to 2, and mountains correspond to 3. This is similar to tile-based board games such as Settlers of Catan or computer games such as Civilization.\n",
        "3. You will need to modify the action_cost method to take into account the land cost. So if a path contains two grass squares, three hills, and one mountain the total path cost will be $2 * 1 + 3 * 2 + 1 * 3 = 11$.\n",
        "4. Add a **Manhattan distance** heuristic to your implementation. The **Manhattan distance** between two points $(x_1, y_1)$ and $(x_2, y_2)$ is defined as $|x_2 - x_1| + |y_2 - y_1|$. The choice of heuristic should be specified by an argument to the LandGridProblem, how this is done can be seen in the init function provided below. See the tests below where we use A* and greedy to trigger the use of the heuristics!\n",
        "\n",
        "For example:\n",
        "```\n",
        "d4_h1 = LandgridProblem(initial = (2,2), goal=(7,6), land_grid = land_grid4, heuristic='straight')\n",
        "d4_h2 = LandgridProblem(initial = (2,2), goal=(7,6), land_grid = land_grid4, heuristic='manhattan')\n",
        "```\n",
        "\n",
        "Some code for creating, printing, and plotting land grids is provided below.\n",
        "\n",
        "**IMPORTANT:**\n",
        "Here is the __init__ function you will need to use.\n",
        "\n",
        "```\n",
        "def __init__(self, initial=(2, 2), goal=(4, 4), land_grid=[],heuristic=\"straight\",**kwds):\n",
        "        size = len(land_grid)\n",
        "        self.size = size\n",
        "        self.heuristic = heuristic\n",
        "        Problem.__init__(self, initial=initial, goal=goal, land_grid = land_grid, size = size, heuristic=heuristic, **kwds)\n",
        "```"
      ]
    },
    {
      "cell_type": "code",
      "execution_count": null,
      "metadata": {
        "editable": true,
        "tags": [],
        "id": "G7dMQLvk2cd5"
      },
      "outputs": [],
      "source": [
        "land_grid1 = [[1,1,2,3,3],[1,2,1,3,1],[1,1,3,1,1],[2,2,2,3,3],[3,1,1,1,1]]\n",
        "land_grid2 = [[1,1,1,1,1],[1,1,1,1,1],[1,1,1,1,1],[1,1,1,1,1],[1,1,1,1,1]]\n",
        "\n",
        "def create_random_land_grid(n):\n",
        "    matrix = []\n",
        "    random.seed(30)\n",
        "    for i in range(0,n):\n",
        "        row = []\n",
        "        for i in range(0,n):\n",
        "            row.append(random.randint(1, 3))\n",
        "        matrix.append(row)\n",
        "    return matrix\n",
        "\n",
        "land_grid4 = create_random_land_grid(15)\n"
      ]
    },
    {
      "cell_type": "code",
      "execution_count": null,
      "metadata": {
        "editable": true,
        "tags": [],
        "id": "bCnFsR9v2cd6"
      },
      "outputs": [],
      "source": [
        "# QUESTION 5 ANSWER GOES HERE\n",
        "\n"
      ]
    },
    {
      "cell_type": "code",
      "execution_count": null,
      "metadata": {
        "editable": true,
        "tags": [],
        "id": "8jzEnXEY2cd6"
      },
      "outputs": [],
      "source": [
        "def plot_grid_problem(grid, solution, reached=(), title='Search', show=True):\n",
        "    \"Use matplotlib to plot the grid, obstacles, solution, and reached.\"\n",
        "    grass_points = []\n",
        "    hill_points = []\n",
        "    mountain_points = []\n",
        "    for i in range(0,grid.size):\n",
        "        for j in range(0,grid.size):\n",
        "            if (grid.land_grid[i][j] == 1):\n",
        "                grass_points.append((i,j))\n",
        "            elif (grid.land_grid[i][j] == 2):\n",
        "                hill_points.append((i,j))\n",
        "            elif (grid.land_grid[i][j] == 3):\n",
        "                mountain_points.append((i,j))\n",
        "\n",
        "    nlocations =  grid.size\n",
        "    plt.figure(figsize=(5, 5))\n",
        "    plt.axis('on');\n",
        "    plt.xlim((-0.5,nlocations-0.5))\n",
        "    plt.ylim((-0.5,nlocations-0.5))\n",
        "    if (grass_points):\n",
        "        plt.scatter(*transpose(grass_points), (250 / nlocations) **2, marker='s', c='green')\n",
        "    if (hill_points):\n",
        "        plt.scatter(*transpose(hill_points), (250 / nlocations) **2, marker='s', c='yellow')\n",
        "    if (mountain_points):\n",
        "        plt.scatter(*transpose(mountain_points), (250 / nlocations) **2, marker='s', c='black')\n",
        "    plt.scatter(*transpose(reached), (50/nlocations)**2, marker='o', c='blue')\n",
        "    plt.scatter(*transpose(path_states(solution)), (100 / nlocations) **2,marker='s', c='red')\n",
        "    plt.scatter(*transpose([grid.initial]), (50/nlocations)**2, marker='D', c='white')\n",
        "    plt.scatter(*transpose([grid.goal]), (125/nlocations)**2, marker='*', c='lightgreen')\n",
        "    if show: plt.show()\n",
        "    print('{} {} search: {:.1f} path cost, {:,d} states reached'\n",
        "          .format(' ' * 10, title, solution.path_cost, len(reached)))"
      ]
    },
    {
      "cell_type": "code",
      "execution_count": null,
      "metadata": {
        "editable": true,
        "tags": [],
        "id": "Vc4C4I8G2cd6"
      },
      "outputs": [],
      "source": [
        "# This code will not work until you have implemented appropriately the LandgridProblem class\n",
        "# These tests must pass!\n",
        "\n",
        "#Landgrid 1 examples (5x5)\n",
        "d1 = LandgridProblem(initial = (3,1), goal=(1,4), land_grid = land_grid1, heuristic='straight')\n",
        "\n",
        "(bfs_d1, reached, frontiers) = breadth_first_bfs(d1)\n",
        "plot_grid_problem(d1, bfs_d1, reached, title='D1 BFS', show=True)\n",
        "\n",
        "(ucs_d1, reached, frontiers) = uniform_cost_search(d1)\n",
        "plot_grid_problem(d1, ucs_d1, reached, title='D1 UCF', show=True)\n",
        "\n",
        "(as_d1, reached, frontiers) = astar_search(d1)\n",
        "plot_grid_problem(d1, as_d1, reached, title='D1 A* search', show=True)\n",
        "\n",
        "(grs_d1, reached, frontiers) = greedy_bfs(d1)\n",
        "plot_grid_problem(d1, grs_d1, reached, title='D1 Greedy', show=True)\n",
        "\n",
        "#Landgrid 4 examples (10x10, random)\n",
        "d4 = LandgridProblem(initial = (0,3), goal=(12,13), land_grid = land_grid4, heuristic='straight')\n",
        "\n",
        "(bfs_d4, reached, frontiers) = breadth_first_bfs(d4)\n",
        "plot_grid_problem(d4, bfs_d4, reached, title='D4 BFS', show=True)\n",
        "\n",
        "(ucs_d4, reached, frontiers) = uniform_cost_search(d4)\n",
        "plot_grid_problem(d4, ucs_d4, reached, title='D4 UCF', show=True)\n",
        "\n",
        "(as_d4, reached, frontiers) = astar_search(d4)\n",
        "plot_grid_problem(d4, as_d4, reached, title='D4 A*', show=True)\n",
        "\n",
        "(grs_d4, reached, frontiers) = greedy_bfs(d4)\n",
        "plot_grid_problem(d4, grs_d4, reached, title='D4 Greedy', show=True)\n",
        "\n",
        "\n",
        "# Heuristic switch examples\n",
        "d4_h1 = LandgridProblem(initial = (0,3), goal=(12,13), land_grid = land_grid4, heuristic='straight')\n",
        "(bfs_d4_h1, reached, frontiers) = astar_search(d4_h1)\n",
        "plot_grid_problem(d4_h1, bfs_d4_h1, reached, title='D4 A* Straight', show=True)\n",
        "\n",
        "d4_h2 = LandgridProblem(initial = (0,3), goal=(12,13), land_grid = land_grid4, heuristic='manhattan')\n",
        "(bfs_d4_h2, reached, frontiers) = astar_search(d4_h2)\n",
        "plot_grid_problem(d4_h2, bfs_d4_h2, reached, title='D4 A* Manhattan', show=True)"
      ]
    },
    {
      "cell_type": "markdown",
      "metadata": {
        "editable": true,
        "tags": [],
        "id": "-Wl9Sbgi2cd6"
      },
      "source": [
        "# QUESTION 6 CSP (Expected) - 4 points\n",
        "\n",
        "Let's look at a simple basic implementation of recursive backtracking search for solving CSP problems."
      ]
    },
    {
      "cell_type": "code",
      "execution_count": null,
      "metadata": {
        "id": "11nIcVIV2cd6"
      },
      "outputs": [],
      "source": [
        "def isComplete(assignment):\n",
        "    return None not in (assignment.values())\n",
        "\n",
        "def select_unassigned_variable(variables, assignment):\n",
        "    for var in variables:\n",
        "        if assignment[var] is None:\n",
        "            return var\n",
        "\n",
        "def is_consistent(assignment, constraints):\n",
        "    for constraint_violated in constraints:\n",
        "        if constraint_violated(assignment):\n",
        "          return False\n",
        "    return True\n",
        "\n",
        "def init_assignment(csp):\n",
        "    assignment = {}\n",
        "    for var in csp[\"VARIABLES\"]:\n",
        "        assignment[var] = None\n",
        "    return assignment\n",
        "\n",
        "def add_constraint(csp, constraint):\n",
        "    csp['CONSTRAINTS'].append(constraint)\n",
        "\n",
        "def recursive_backtracking(assignment, csp):\n",
        "    if isComplete(assignment):\n",
        "        return assignment\n",
        "    var = select_unassigned_variable(csp[\"VARIABLES\"], assignment)\n",
        "    for value in csp[\"DOMAINS\"]:\n",
        "        assignment[var] = value\n",
        "        if is_consistent(assignment, csp[\"CONSTRAINTS\"]):\n",
        "            result = recursive_backtracking(assignment, csp)\n",
        "            if result != \"FAILURE\":\n",
        "                return result\n",
        "        assignment[var] = None\n",
        "    return \"FAILURE\"\n",
        "\n",
        "\n",
        "def binary_constraint(var_pair, violations):\n",
        "    (v1,v2) = var_pair\n",
        "    return lambda asmt: (asmt[v1], asmt[v2]) in violations\n"
      ]
    },
    {
      "cell_type": "markdown",
      "metadata": {
        "id": "-B8xius-2cd6"
      },
      "source": [
        "We can use this implementation to solve the Australia map colouring problem. Before working on this question make sure you understand how the code works. *Looking at how csp_australia is defined and how binary constraints are defined as violations below can be useful in tracing how the code above works using this information.*\n",
        "\n",
        "1. Add a unary constraint function. Similarly to binary constraint, it should return a function that takes as input an assignment and returns true if the assignment violates the constraint.\n",
        "2. Show how this new unary constraint can be used to enforce that WA is blue\n",
        "3. Now in addition to (2), use this new unary constraint to enforce that T is blue in the resulting solution.\n",
        "4. Now in addition to (3), use this new unary constraint to enforce that NT is also blue in the resulting solution. See below for expected output."
      ]
    },
    {
      "cell_type": "code",
      "execution_count": null,
      "metadata": {
        "id": "OjslyIiF2cd6"
      },
      "outputs": [],
      "source": [
        "csp_australia = {\"VARIABLES\": [\"WA\", \"NT\", \"Q\", \"NSW\", \"V\", \"SA\", \"T\"],\n",
        "        \"DOMAINS\": [\"red\", \"green\", \"blue\"],\n",
        "        \"CONSTRAINTS\": []}\n",
        "\n",
        "violations = {('red','red'), ('green','green'), ('blue','blue')}\n",
        "\n",
        "for (v1,v2) in [('WA', 'NT'), ('WA', 'SA'),\n",
        "                ('NT', 'SA'), ('NT', 'Q'),\n",
        "                ('SA', 'Q'), ('SA', 'NSW'),\n",
        "                ('SA', 'V'),('Q', 'NSW'),\n",
        "                ('V', 'T')]:\n",
        "    add_constraint(csp_australia, binary_constraint((v1,v2), violations))\n"
      ]
    },
    {
      "cell_type": "code",
      "execution_count": null,
      "metadata": {
        "id": "1w-CpR7T2cd7"
      },
      "outputs": [],
      "source": [
        "# Q6 ANSWER GOES HERE\n",
        "# HINTS:\n",
        "# 0) define a unary constraint, see binary constrain above\n",
        "# Repeat\n",
        "# 1) add constraint to CSP\n",
        "# 2) recursive backtracking on an initial assignment\n",
        "# 3) print\n",
        "\n",
        "\n",
        "# Expected output\n",
        "# NOTE here the solution should have WA as blue\n",
        "# Result {'WA': 'blue', 'NT': 'red', 'Q': 'blue', 'NSW': 'red', 'V': 'red', 'SA': 'green', 'T': 'green'}\n",
        "# NOTE here the solution should have WA as blue and T as blue\n",
        "# Result {'WA': 'blue', 'NT': 'red', 'Q': 'blue', 'NSW': 'red', 'V': 'red', 'SA': 'green', 'T': 'blue'}\n",
        "# NOTE this is impossible, so failure!\n",
        "# Result FAILURE"
      ]
    },
    {
      "cell_type": "markdown",
      "metadata": {
        "id": "n9670RS42cd7"
      },
      "source": [
        "# QUESTION 7 CSP (Advanced) - 10 points\n",
        "\n",
        "Type inference is used in programming languages to\n",
        "infer the type of variables without explicitly stating it.\n",
        "Some examples:\n",
        "* x = 1  (we can infer x is an integer because 1 is an integer)\n",
        "* y = 1.0 (we can infer y is a float because 1.0 is a float)\n",
        "* z = x + y (we can infer z is a float because adding a float\n",
        "and an integer results in a float)\n",
        "\n",
        "Constraint satisfaction problem solvers can be used to perform\n",
        "type inference. The variables of the programming languages become the variables of the CSP problem, and the domain of each variable is the types it can have. Constraints are created from the expressions analyzed in order to enforce that the assignment of variables to types is correct. Let's consider a simple example:\n",
        "\n",
        "* int I\n",
        "* float F\n",
        "* X = I\n",
        "* Y = X + F\n",
        "* Z = X + Y\n",
        "* W = X + I\n",
        "\n",
        "We assume that when two variables are connected using assignment then they are the same type. So X is an integer because I has been declared an integer. The type of the result of adding two integers is an integer, the result of adding two floats is a float but the result of adding an integer and a float has type float. So we know that X is an integer and we add F which is a float therefore Y is a float and similarly Z is also a float.  W is an integer because X and I are integers.\n",
        "\n",
        "Notice that we did not declare the types of X, Y, and Z but were able to infer them using the semantics of the equality sign and addition.\n",
        "\n",
        "1. Your task for this question is to express this code as a CSP problem and solve it.\n",
        "2. The result of the CSP will be the inferred types.\n",
        "3. Each variable (I,F,X,Y,Z,W) will take values from the domain (int, float).\n",
        "4. Unary constraints can be used for the type declaration and a binary constraint can be used for the assignment expression.\n",
        "5. You will need to introduce a ternary_constraint method to express the sum expressions."
      ]
    },
    {
      "cell_type": "code",
      "execution_count": null,
      "metadata": {
        "editable": true,
        "tags": [],
        "id": "ojuUuKxs2cd7"
      },
      "outputs": [],
      "source": [
        "# Q7 ANSWER GOES HERE\n",
        "\n",
        "\n",
        "\n",
        "\n",
        "# result = recursive_backtracking(init_assignment(csp1), csp1)\n",
        "# print('Result', result)\n",
        "# Result {'I': 'int', 'F': 'float', 'X': 'int', 'Y': 'float', 'Z': 'float', 'W': 'int'}\n",
        "\n"
      ]
    }
  ],
  "metadata": {
    "kernelspec": {
      "display_name": "Python 3 (ipykernel)",
      "language": "python",
      "name": "python3"
    },
    "language_info": {
      "codemirror_mode": {
        "name": "ipython",
        "version": 3
      },
      "file_extension": ".py",
      "mimetype": "text/x-python",
      "name": "python",
      "nbconvert_exporter": "python",
      "pygments_lexer": "ipython3",
      "version": "3.12.1"
    },
    "colab": {
      "provenance": [],
      "include_colab_link": true
    }
  },
  "nbformat": 4,
  "nbformat_minor": 0
}